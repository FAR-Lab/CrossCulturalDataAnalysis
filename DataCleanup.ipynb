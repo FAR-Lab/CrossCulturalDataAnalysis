{
 "cells": [
  {
   "cell_type": "code",
   "execution_count": 10,
   "id": "1d1d4777-3379-4c7d-bcc6-346a5d56d555",
   "metadata": {
    "tags": []
   },
   "outputs": [],
   "source": [
    "import matplotlib.pyplot as plt\n",
    "import pandas\n",
    "import re\n",
    "from pathlib import Path\n",
    "import numpy as np\n",
    "import random"
   ]
  },
  {
   "cell_type": "code",
   "execution_count": 3,
   "id": "08abd916-cd9d-41ef-a40e-00afc2da9a25",
   "metadata": {
    "tags": []
   },
   "outputs": [
    {
     "name": "stdout",
     "output_type": "stream",
     "text": [
      "CP1 - 314 \n",
      "CP2 - 302 \n",
      "CP3 - 309 \n",
      "CP5 - 305 \n",
      "CP6 - 281 \n",
      "CP7 - 301 \n",
      "CP8 - 282 \n",
      "CP4 - 3 \n"
     ]
    }
   ],
   "source": [
    "# Parse the folders\n",
    "folder_path = Path('C:/Users/farla/Documents/Summer2023/XCData/CrossCultureResearch')\n",
    "\n",
    "# Create a dictionary to store the CP paths\n",
    "csv_categorized = {}\n",
    "\n",
    "# Iterate over all csv files\n",
    "for file in folder_path.rglob('*.csv'):  # \"r\"glob for recursive\n",
    "    # Check filename pattern\n",
    "    filename = file.name\n",
    "    # (\\d+) tries to match and catch any number of digits\n",
    "    # use https://regex101.com to check and modify regex if file name pattern changes in the future\n",
    "    match = re.match(r'CSVScenario-CP(\\d+)_Session-.+_\\d{4}-\\d{2}-\\d{2}-\\d{2}-\\d{2}-\\d{2}\\.csv', filename)\n",
    "    if match:\n",
    "        # Use the capture to get get CP number\n",
    "        crosspath_number = match.group(1)\n",
    "       \n",
    "        if crosspath_number not in csv_categorized:\n",
    "            csv_categorized[crosspath_number] = [file]\n",
    "        else:\n",
    "            csv_categorized[crosspath_number].append(file)\n",
    "\n",
    "# Print categorized csv files\n",
    "for crosspath_number, files in csv_categorized.items():\n",
    "    print(f'CP{crosspath_number} - {len(files)} ')\n",
    "    #for file in files:\n",
    "        #print(f'  File: {file}')"
   ]
  },
  {
   "cell_type": "code",
   "execution_count": 14,
   "id": "bbce7688-5968-4473-ab55-8c92409908b9",
   "metadata": {
    "tags": []
   },
   "outputs": [],
   "source": [
    "from IPython.display import display, clear_output\n",
    "\n",
    "# create a dictionary recording if each path is valid\n",
    "# key: path   value: validity (bool)\n",
    "path_validity = {}\n",
    "\n",
    "def GoThroughValidityOfCP(CPNum):\n",
    "    CPNum = str(CPNum)\n",
    "    zoomFactor = 50\n",
    "    wantedDistanceWithin = 30\n",
    "\n",
    "    plt.figure(figsize=(10,10))\n",
    "\n",
    "    if CPNum not in csv_categorized:\n",
    "        raise ValueError(f\"No CP {CPNum}\")\n",
    "\n",
    "    for path in csv_categorized[CPNum]:\n",
    "        # there are broken graphs so so try and except\n",
    "        try:\n",
    "            df = pandas.read_csv(path, sep=';')        \n",
    "            dfA = df[((df['HeadPosXA'] > -wantedDistanceWithin) & (df['HeadPosXA'] < wantedDistanceWithin)) & ((df['HeadPosZA'] > -wantedDistanceWithin) & (df['HeadPosZA'] < wantedDistanceWithin))]\n",
    "            dfB = df[((df['HeadPosXB'] > -wantedDistanceWithin) & (df['HeadPosXB'] < wantedDistanceWithin)) & ((df['HeadPosZB'] > -wantedDistanceWithin) & (df['HeadPosZB'] < wantedDistanceWithin))]\n",
    "            plt.plot(dfA['HeadPosXA'], dfA['HeadPosZA'], color = 'red', alpha=0.5)\n",
    "            plt.plot(dfB['HeadPosXB'], dfB['HeadPosZB'], color = 'blue', alpha=0.5)\n",
    "            plt.plot([-wantedDistanceWithin,-wantedDistanceWithin],[-wantedDistanceWithin,wantedDistanceWithin], color='black')\n",
    "            plt.plot([-wantedDistanceWithin,wantedDistanceWithin],[wantedDistanceWithin,wantedDistanceWithin], color='black')\n",
    "            plt.plot([wantedDistanceWithin,wantedDistanceWithin],[wantedDistanceWithin,-wantedDistanceWithin], color='black')\n",
    "            plt.plot([wantedDistanceWithin,-wantedDistanceWithin],[-wantedDistanceWithin,-wantedDistanceWithin], color='black')\n",
    "\n",
    "            plt.xlim([-zoomFactor, zoomFactor])\n",
    "            plt.ylim([-zoomFactor, zoomFactor])\n",
    "            # display the current figure and ask valid or not\n",
    "            display(plt.gcf())  \n",
    "            validity = input(\"Is the graph valid? (y/n) \")\n",
    "            if(validity == \"stop\"):\n",
    "                return           \n",
    "            path_validity[path] = True if validity.lower() == 'y' else False\n",
    "            \n",
    "            # Clear the plot for the next graph\n",
    "            plt.clf()\n",
    "            clear_output(wait=True)\n",
    "            \n",
    "        except Exception as e:\n",
    "            print(f\"Failed to process {path} because of {e}\")\n",
    "            path_validity[path] = False\n",
    "            continue\n"
   ]
  },
  {
   "cell_type": "code",
   "execution_count": null,
   "id": "f032eaaa-d2b3-4e3c-8b35-a397912412e9",
   "metadata": {
    "tags": []
   },
   "outputs": [
    {
     "data": {
      "image/png": "[encoded data removed]",
      "text/plain": [
       "<Figure size 1000x1000 with 1 Axes>"
      ]
     },
     "metadata": {},
     "output_type": "display_data"
    }
   ],
   "source": [
    "GoThroughValidityOfCP(1)"
   ]
  },
  {
   "cell_type": "code",
   "execution_count": 12,
   "id": "8c4210dd-e383-4a98-90a8-9a2a6919e238",
   "metadata": {
    "tags": []
   },
   "outputs": [],
   "source": [
    "# Convert dictionary to DataFrame\n",
    "df = pandas.DataFrame(list(path_validity.items()), columns=['Path', 'Validity'])\n",
    "\n",
    "df.to_csv(r'C:\\Users\\farla\\Documents\\Summer2023\\Python\\DataValidity\\path_validity.csv', sep=';', index=False)"
   ]
  },
  {
   "cell_type": "code",
   "execution_count": null,
   "id": "a664990f-24e4-4b85-a3c6-5a5c08d9b8ef",
   "metadata": {},
   "outputs": [],
   "source": []
  }
 ],
 "metadata": {
  "kernelspec": {
   "display_name": "Python 3 (ipykernel)",
   "language": "python",
   "name": "python3"
  },
  "language_info": {
   "codemirror_mode": {
    "name": "ipython",
    "version": 3
   },
   "file_extension": ".py",
   "mimetype": "text/x-python",
   "name": "python",
   "nbconvert_exporter": "python",
   "pygments_lexer": "ipython3",
   "version": "3.8.17"
  }
 },
 "nbformat": 4,
 "nbformat_minor": 5
}
