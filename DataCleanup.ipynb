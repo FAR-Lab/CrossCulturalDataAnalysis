{
 "cells": [
  {
   "cell_type": "code",
   "execution_count": 18,
   "id": "1d1d4777-3379-4c7d-bcc6-346a5d56d555",
   "metadata": {
    "tags": []
   },
   "outputs": [],
   "source": [
    "import matplotlib.pyplot as plt\n",
    "import pandas\n",
    "import re\n",
    "from pathlib import Path\n",
    "import numpy as np\n",
    "import random\n",
    "import os\n",
    "\n",
    "import Utilities"
   ]
  },
  {
   "cell_type": "code",
   "execution_count": 1,
   "id": "ee5e48a5-1ff7-4ee0-ad82-03878ccde444",
   "metadata": {
    "tags": []
   },
   "outputs": [
    {
     "name": "stdout",
     "output_type": "stream",
     "text": [
      "^C\n"
     ]
    },
    {
     "name": "stderr",
     "output_type": "stream",
     "text": [
      "\u001b[33m(Deprecated) Installing extensions with the jupyter labextension install command is now deprecated and will be removed in a future major version of JupyterLab.\n",
      "\n",
      "Users should manage prebuilt extensions with package managers like pip and conda, and extension authors are encouraged to distribute their extensions as prebuilt packages \u001b[0m\n",
      "Building jupyterlab assets (production, minimized)\n"
     ]
    },
    {
     "name": "stdout",
     "output_type": "stream",
     "text": [
      "\n"
     ]
    }
   ],
   "source": [
    "# Try this line if the cells below gives strange errors\n",
    "!jupyter labextension install @jupyter-widgets/jupyterlab-manager"
   ]
  },
  {
   "cell_type": "code",
   "execution_count": 19,
   "id": "08abd916-cd9d-41ef-a40e-00afc2da9a25",
   "metadata": {
    "tags": []
   },
   "outputs": [
    {
     "name": "stdout",
     "output_type": "stream",
     "text": [
      "CP1 - 120 \n",
      "CP2 - 112 \n",
      "CP3 - 111 \n",
      "CP5 - 115 \n",
      "CP6 - 103 \n",
      "CP7 - 109 \n",
      "CP8 - 102 \n",
      "CP4 - 3 \n"
     ]
    }
   ],
   "source": [
    "csv_categorized = Utilities.GetCSVDictionary()"
   ]
  },
  {
   "cell_type": "code",
   "execution_count": 6,
   "id": "bbce7688-5968-4473-ab55-8c92409908b9",
   "metadata": {
    "tags": []
   },
   "outputs": [],
   "source": [
    "from IPython.display import display, clear_output\n",
    "\n",
    "def GoThroughValidityOfCP(CPNum):\n",
    "    # create a dictionary recording if each path is valid\n",
    "    # key: path   value: validity (bool)\n",
    "    path_validity = {}\n",
    "    CPNum = str(CPNum)\n",
    "    zoomFactor = 50\n",
    "    wantedDistanceWithin = 30\n",
    "\n",
    "    plt.figure(figsize=(10,10))\n",
    "\n",
    "    if CPNum not in csv_categorized:\n",
    "        raise ValueError(f\"No CP {CPNum}\")\n",
    "\n",
    "    for path in csv_categorized[CPNum]:\n",
    "        # there are broken graphs so so try and except\n",
    "        try:\n",
    "            df = pandas.read_csv(path, sep=';')        \n",
    "            dfA = df[((df['HeadPosXA'] > -wantedDistanceWithin) & (df['HeadPosXA'] < wantedDistanceWithin)) & ((df['HeadPosZA'] > -wantedDistanceWithin) & (df['HeadPosZA'] < wantedDistanceWithin))]\n",
    "            dfB = df[((df['HeadPosXB'] > -wantedDistanceWithin) & (df['HeadPosXB'] < wantedDistanceWithin)) & ((df['HeadPosZB'] > -wantedDistanceWithin) & (df['HeadPosZB'] < wantedDistanceWithin))]\n",
    "            plt.plot(dfA['HeadPosXA'], dfA['HeadPosZA'], color = 'red', alpha=0.5)\n",
    "            plt.plot(dfB['HeadPosXB'], dfB['HeadPosZB'], color = 'blue', alpha=0.5)\n",
    "            plt.plot([-wantedDistanceWithin,-wantedDistanceWithin],[-wantedDistanceWithin,wantedDistanceWithin], color='black')\n",
    "            plt.plot([-wantedDistanceWithin,wantedDistanceWithin],[wantedDistanceWithin,wantedDistanceWithin], color='black')\n",
    "            plt.plot([wantedDistanceWithin,wantedDistanceWithin],[wantedDistanceWithin,-wantedDistanceWithin], color='black')\n",
    "            plt.plot([wantedDistanceWithin,-wantedDistanceWithin],[-wantedDistanceWithin,-wantedDistanceWithin], color='black')\n",
    "\n",
    "            plt.xlim([-zoomFactor, zoomFactor])\n",
    "            plt.ylim([-zoomFactor, zoomFactor])\n",
    "            # display the current figure and ask valid or not\n",
    "            display(plt.gcf())  \n",
    "            validity = input(\"Is the graph valid? (y/n)\")\n",
    "            if(validity == \"stop\"):\n",
    "                return path_validity  \n",
    "            path_validity[path] = True if validity.lower() == 'y' else False\n",
    "            \n",
    "            # Clear the plot for the next graph\n",
    "            plt.clf()\n",
    "            clear_output()\n",
    "            \n",
    "        except Exception as e:\n",
    "            #print(f\"Failed to process {path} because of {e}\")\n",
    "            path_validity[path] = False\n",
    "            continue\n",
    "    return path_validity"
   ]
  },
  {
   "cell_type": "code",
   "execution_count": 15,
   "id": "f032eaaa-d2b3-4e3c-8b35-a397912412e9",
   "metadata": {
    "tags": []
   },
   "outputs": [
    {
     "data": {
      "text/plain": [
       "<Figure size 1000x1000 with 0 Axes>"
      ]
     },
     "metadata": {},
     "output_type": "display_data"
    }
   ],
   "source": [
    "my_path_validity = GoThroughValidityOfCP(8)"
   ]
  },
  {
   "cell_type": "code",
   "execution_count": 16,
   "id": "8c4210dd-e383-4a98-90a8-9a2a6919e238",
   "metadata": {
    "tags": []
   },
   "outputs": [],
   "source": [
    "df = pandas.DataFrame(list(my_path_validity.items()), columns=['Path', 'Validity'])\n",
    "\n",
    "cwd = os.getcwd()\n",
    "\n",
    "new_paths = []\n",
    "for p in df['Path']:\n",
    "    new_paths.append(str(Path(p).relative_to(cwd)))\n",
    "\n",
    "df['Path'] = new_paths\n",
    "folder_path = Path(cwd) / 'Data/DataValidity/path_validity.csv'\n",
    "\n",
    "df.to_csv(str(folder_path), sep=';', index=False)"
   ]
  },
  {
   "cell_type": "code",
   "execution_count": null,
   "id": "a664990f-24e4-4b85-a3c6-5a5c08d9b8ef",
   "metadata": {},
   "outputs": [],
   "source": []
  }
 ],
 "metadata": {
  "kernelspec": {
   "display_name": "Python 3 (ipykernel)",
   "language": "python",
   "name": "python3"
  },
  "language_info": {
   "codemirror_mode": {
    "name": "ipython",
    "version": 3
   },
   "file_extension": ".py",
   "mimetype": "text/x-python",
   "name": "python",
   "nbconvert_exporter": "python",
   "pygments_lexer": "ipython3",
   "version": "3.8.17"
  }
 },
 "nbformat": 4,
 "nbformat_minor": 5
}
