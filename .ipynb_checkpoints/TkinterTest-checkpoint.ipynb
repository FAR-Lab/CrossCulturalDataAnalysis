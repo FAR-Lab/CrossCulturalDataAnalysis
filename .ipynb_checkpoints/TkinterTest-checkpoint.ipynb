{
 "cells": [
  {
   "cell_type": "code",
   "execution_count": 3,
   "id": "cd794d0a-8bae-4932-98b8-e4b8116c5cd9",
   "metadata": {
    "tags": []
   },
   "outputs": [
    {
     "name": "stdout",
     "output_type": "stream",
     "text": [
      "\n"
     ]
    }
   ],
   "source": [
    "from tkinter import filedialog\n",
    "from tkinter import Tk\n",
    "\n",
    "def select_folder(title=\"Select a Folder\"):\n",
    "    root = Tk()\n",
    "    root.attributes('-topmost', True)  # This line will make the window appear on top\n",
    "    root.withdraw()  # to hide the main window\n",
    "    folder_path = filedialog.askdirectory(title=title)  # show an \"Open\" dialog box and return the path selected by the user\n",
    "    root.destroy()\n",
    "    return folder_path\n",
    "\n",
    "folder_path = select_folder(\"Please select your desired folder\")\n",
    "print(folder_path)\n"
   ]
  }
 ],
 "metadata": {
  "kernelspec": {
   "display_name": "Python 3 (ipykernel)",
   "language": "python",
   "name": "python3"
  },
  "language_info": {
   "codemirror_mode": {
    "name": "ipython",
    "version": 3
   },
   "file_extension": ".py",
   "mimetype": "text/x-python",
   "name": "python",
   "nbconvert_exporter": "python",
   "pygments_lexer": "ipython3",
   "version": "3.8.17"
  }
 },
 "nbformat": 4,
 "nbformat_minor": 5
}
