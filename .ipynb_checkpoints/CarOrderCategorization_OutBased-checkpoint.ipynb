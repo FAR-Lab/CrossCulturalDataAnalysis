{
 "cells": [
  {
   "cell_type": "code",
   "execution_count": 1,
   "id": "dd054aba-890d-43ba-9449-fb905f6755bd",
   "metadata": {},
   "outputs": [],
   "source": [
    "import matplotlib.pyplot as plt\n",
    "import pandas\n",
    "import re\n",
    "from pathlib import Path\n",
    "import numpy as np\n",
    "import random\n",
    "import os\n",
    "\n",
    "import Utilities"
   ]
  },
  {
   "cell_type": "code",
   "execution_count": 2,
   "id": "a23282e8-90ad-4a1a-a7ad-138fe62a31f5",
   "metadata": {},
   "outputs": [],
   "source": [
    "def SetCPList(cp_num):\n",
    "    CPlist_NYC = Utilities.GetScenarioCSVList(cp_num, True, \"NYC\")\n",
    "    CPlist_ITH = Utilities.GetScenarioCSVList(cp_num, True, \"ITH\")\n",
    "    CPlist_ISR = Utilities.GetScenarioCSVList(cp_num, True, \"ISR\")\n",
    "    return CPlist_NYC, CPlist_ITH, CPlist_ISR"
   ]
  },
  {
   "cell_type": "code",
   "execution_count": 5,
   "id": "b766f8b0-697c-4a88-b65c-49985022f0ba",
   "metadata": {},
   "outputs": [],
   "source": [
    "def FirstOutAnalysis(CPlist, carA_out_direction, carB_out_direction, out_threshold):\n",
    "    timeA_list = []\n",
    "    timeB_list = []\n",
    "\n",
    "    for cp in CPlist:\n",
    "        # first truncate the scenario\n",
    "        dfA, dfB = Utilities.GetTruncatedScenario(cp, out_threshold)\n",
    "\n",
    "        # data doesn't have time column, so we need to create one\n",
    "        dfA['Time'] = np.arange(len(dfA))  # arange returns evenly spaced values within a given interval\n",
    "        dfB['Time'] = np.arange(len(dfB))\n",
    "\n",
    "        timeA, timeB = 99999,99999\n",
    "\n",
    "        if carA_out_direction == \"top\":\n",
    "            # check if carA's Z position is ever greater than the threshold\n",
    "            if dfA['HeadPosZA'].max() > out_threshold - 1:\n",
    "                # if so, get the time when it first happens\n",
    "                # create a new dataframe that only contains the rows where Z position is greater than threshold, then get the first row's time\n",
    "                timeA = dfA.loc[dfA['HeadPosZA'] > out_threshold - 1, 'Time'].iloc[0]   \n",
    "        elif carA_out_direction == \"bottom\":\n",
    "            if dfA['HeadPosZA'].min() < -out_threshold + 1:\n",
    "                timeA = dfA.loc[dfA['HeadPosZA'] < -out_threshold + 1, 'Time'].iloc[0]\n",
    "        elif carA_out_direction == \"left\":\n",
    "            if dfA['HeadPosXA'].min() < -out_threshold + 1:\n",
    "                timeA = dfA.loc[dfA['HeadPosXA'] < -out_threshold + 1, 'Time'].iloc[0]\n",
    "        elif carA_out_direction == \"right\":\n",
    "            if dfA['HeadPosXA'].max() > out_threshold - 1:\n",
    "                timeA = dfA.loc[dfA['HeadPosXA'] > out_threshold - 1, 'Time'].iloc[0]\n",
    "\n",
    "        if carB_out_direction == \"top\":\n",
    "            if dfB['HeadPosZB'].max() > out_threshold - 1:\n",
    "                timeB = dfB.loc[dfB['HeadPosZB'] > out_threshold - 1, 'Time'].iloc[0]\n",
    "        elif carB_out_direction == \"bottom\":\n",
    "            if dfB['HeadPosZB'].min() < -out_threshold + 1:\n",
    "                timeB = dfB.loc[dfB['HeadPosZB'] < -out_threshold + 1, 'Time'].iloc[0]\n",
    "        elif carB_out_direction == \"left\":\n",
    "            if dfB['HeadPosXB'].min() < -out_threshold + 1:\n",
    "                timeB = dfB.loc[dfB['HeadPosXB'] < -out_threshold + 1, 'Time'].iloc[0]\n",
    "        elif carB_out_direction == \"right\":\n",
    "            if dfB['HeadPosXB'].max() > out_threshold - 1:\n",
    "                timeB = dfB.loc[dfB['HeadPosXB'] > out_threshold - 1, 'Time'].iloc[0]\n",
    "\n",
    "        timeA_list.append(timeA)\n",
    "        timeB_list.append(timeB)\n",
    "    \n",
    "    print(timeA_list)\n",
    "    print(timeB_list)\n",
    "\n",
    "    out_first_list = []\n",
    "    # compare which car is out first\n",
    "    for i in range(len(timeA_list)):\n",
    "        if timeA_list[i] < timeB_list[i]:\n",
    "            out_first_list.append(\"A\")\n",
    "        else:\n",
    "            out_first_list.append(\"B\")\n",
    "    print(out_first_list)\n",
    "\n",
    "\n",
    "\n"
   ]
  },
  {
   "cell_type": "code",
   "execution_count": 6,
   "id": "a0b10d0f",
   "metadata": {
    "tags": []
   },
   "outputs": [
    {
     "name": "stdout",
     "output_type": "stream",
     "text": [
      "got 28 csv from CP1 in NYC with validity: True \n",
      "got 10 csv from CP1 in ITH with validity: True \n",
      "got 30 csv from CP1 in ISR with validity: True \n",
      "[415, 464, 99999, 99999, 99999, 418, 99999, 238, 99999, 223, 348, 354, 421, 390, 485, 99999, 246, 316, 367, 99999, 1036, 695, 429, 295, 285, 99999, 99999, 378]\n",
      "[273, 99999, 235, 490, 314, 354, 270, 99999, 273, 130, 415, 99999, 278, 415, 508, 421, 374, 99999, 262, 235, 99999, 828, 99999, 319, 99999, 527, 695, 99999]\n",
      "['B', 'A', 'B', 'B', 'B', 'B', 'B', 'A', 'B', 'B', 'A', 'A', 'B', 'A', 'A', 'B', 'A', 'A', 'B', 'B', 'A', 'A', 'A', 'A', 'A', 'B', 'B', 'A']\n"
     ]
    }
   ],
   "source": [
    "CPlist_NYC, CPlist_ITH, CPlist_ISR = SetCPList(1)\n",
    "\n",
    "FirstOutAnalysis(CPlist_NYC, \"left\", \"bottom\", 30)"
   ]
  }
 ],
 "metadata": {
  "kernelspec": {
   "display_name": "Python 3 (ipykernel)",
   "language": "python",
   "name": "python3"
  },
  "language_info": {
   "codemirror_mode": {
    "name": "ipython",
    "version": 3
   },
   "file_extension": ".py",
   "mimetype": "text/x-python",
   "name": "python",
   "nbconvert_exporter": "python",
   "pygments_lexer": "ipython3",
   "version": "3.8.17"
  }
 },
 "nbformat": 4,
 "nbformat_minor": 5
}
