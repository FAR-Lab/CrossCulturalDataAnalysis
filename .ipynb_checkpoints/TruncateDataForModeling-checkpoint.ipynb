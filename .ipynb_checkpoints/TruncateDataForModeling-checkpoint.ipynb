{
 "cells": [
  {
   "cell_type": "code",
   "execution_count": 1,
   "id": "45b07a4f-5cb4-4ae9-9eb5-bb22145b9276",
   "metadata": {
    "tags": []
   },
   "outputs": [],
   "source": [
    "import matplotlib.pyplot as plt\n",
    "import pandas as pd\n",
    "import re\n",
    "from pathlib import Path\n",
    "import numpy as np\n",
    "import random\n",
    "import os"
   ]
  },
  {
   "cell_type": "code",
   "execution_count": null,
   "id": "8e97aea4-9bae-4e81-b9ae-70e00046b053",
   "metadata": {
    "tags": []
   },
   "outputs": [],
   "source": [
    "data = pd.read_csv(r\"C:\\Users\\farla\\OneDrive\\Documents\\GitHub\\CrossCulturalDataAnalysis\\CleanedData\\DataValidity\\CP8\\path_validity_CP8_cleaned_followGPS.csv\", sep=';')\n",
    "\n",
    "for index, row in data.iterrows():\n",
    "    if row['Validity'] == False:\n",
    "        # Check if file exists\n",
    "        if os.path.isfile(row['Path']):\n",
    "            try:\n",
    "                # Try to remove file\n",
    "                os.remove(row['Path'])\n",
    "                print(f'Successfully deleted file at {row[\"Path\"]}')\n",
    "            except OSError as e:\n",
    "                print(f'Error: {e.filename} - {e.strerror}.')\n",
    "        else:\n",
    "            print(f'No file found at {row[\"Path\"]}')\n"
   ]
  },
  {
   "cell_type": "code",
   "execution_count": null,
   "id": "56d66d9c-1d77-43f0-8b02-4ac6726f2f71",
   "metadata": {
    "tags": []
   },
   "outputs": [],
   "source": [
    "source_folder_path = Path(r\"C:\\Users\\farla\\OneDrive\\Documents\\GitHub\\CrossCulturalDataAnalysis\\CleanedData\")\n",
    "save_folder_path = Path(r\"C:\\Users\\farla\\OneDrive\\Documents\\GitHub\\CrossCulturalDataAnalysis\\TruncatedData\")\n",
    "\n",
    "# Iterate through all csv files in the source folder\n",
    "for file_path in source_folder_path.rglob('*.csv'):\n",
    "    print(file_path)\n",
    "    df = pd.read_csv(file_path, sep=';')\n",
    "\n",
    "    df.rename(columns={'AccelA': 'ThrottleA', 'AccelB': 'ThrottleB',\n",
    "                       'HeadPosXA': 'CarPosXA', 'HeadPosXB': 'CarPosXB',\n",
    "                       'HeadPosZA': 'CarPosZA', 'HeadPosZB': 'CarPosZB'}, inplace=True)\n",
    "    df = df[['ScenarioTime', 'ThrottleA', 'ThrottleB', 'CarPosXA', 'CarPosXB', 'CarPosZA', 'CarPosZB', 'SteerA', 'SteerB']]\n",
    "\n",
    "    save_path = save_folder_path / file_path.relative_to(source_folder_path)\n",
    "\n",
    "    save_path.parent.mkdir(parents=True, exist_ok=True)\n",
    "\n",
    "    df.to_csv(save_path, sep=';', index=False)\n"
   ]
  },
  {
   "cell_type": "code",
   "execution_count": 3,
   "id": "a35e71eb-186b-42d9-a5e0-9c9374f8c2c6",
   "metadata": {
    "tags": []
   },
   "outputs": [],
   "source": [
    "source_folder_path = Path(r\"M:\\Github\\CrossCulturalDataAnalysis\\SimplifiedData\")\n",
    "save_folder_path = Path(r\"M:\\Github\\CrossCulturalDataAnalysis\\TruncatedData\")\n",
    "\n",
    "wantedDistanceWithin = 25\n",
    "# Iterate through all csv files and truncate them\n",
    "for file_path in source_folder_path.rglob('*.csv'):\n",
    "    df = pd.read_csv(file_path, sep=';')\n",
    "    dfA = df[((df['CarPosXA'] > -wantedDistanceWithin) & (df['CarPosXA'] < wantedDistanceWithin)) & ((df['CarPosZA'] > -wantedDistanceWithin) & (df['CarPosZA'] < wantedDistanceWithin))]\n",
    "    dfB = df[((df['CarPosXB'] > -wantedDistanceWithin) & (df['CarPosXB'] < wantedDistanceWithin)) & ((df['CarPosZB'] > -wantedDistanceWithin) & (df['CarPosZB'] < wantedDistanceWithin))]\n",
    "    df = pd.concat([dfA, dfB])\n",
    "    df = df.sort_values(by=['ScenarioTime'])\n",
    "    df = df.reset_index(drop=True)\n",
    "    # minus all scenario times with by first scenario time\n",
    "    df['ScenarioTime'] = df['ScenarioTime'] - df['ScenarioTime'][0]\n",
    "\n",
    "    save_path = save_folder_path / file_path.relative_to(source_folder_path)\n",
    "    save_path.parent.mkdir(parents=True, exist_ok=True)\n",
    "    df.to_csv(save_path, sep=';', index=False)\n",
    "    \n"
   ]
  },
  {
   "cell_type": "code",
   "execution_count": 6,
   "id": "8893dfa2-dcb6-46c5-b012-092ddad8b4c1",
   "metadata": {
    "tags": []
   },
   "outputs": [
    {
     "data": {
      "image/png": "[encoded data removed]",
      "text/plain": [
       "<Figure size 640x480 with 1 Axes>"
      ]
     },
     "metadata": {},
     "output_type": "display_data"
    }
   ],
   "source": [
    "plot_csv_path = r\"M:\\Github\\CrossCulturalDataAnalysis\\TruncatedData\\ISR01\\Simulator outputs\\csv\\CSVScenario-CP1_Session-isr01_2022-05-31-11-44-09.csv\"\n",
    "df = pd.read_csv(plot_csv_path, sep=';')\n",
    "# plot the position of the cars on 2d plane\n",
    "plt.plot(df['CarPosXA'], df['CarPosZA'], label='Car A')\n",
    "plt.plot(df['CarPosXB'], df['CarPosZB'], label='Car B')\n",
    "\n",
    "plt.xlim(-30, 30)\n",
    "plt.ylim(-30, 30)\n",
    "plt.legend()\n",
    "plt.show()"
   ]
  }
 ],
 "metadata": {
  "kernelspec": {
   "display_name": "Python 3 (ipykernel)",
   "language": "python",
   "name": "python3"
  },
  "language_info": {
   "codemirror_mode": {
    "name": "ipython",
    "version": 3
   },
   "file_extension": ".py",
   "mimetype": "text/x-python",
   "name": "python",
   "nbconvert_exporter": "python",
   "pygments_lexer": "ipython3",
   "version": "3.8.17"
  }
 },
 "nbformat": 4,
 "nbformat_minor": 5
}
