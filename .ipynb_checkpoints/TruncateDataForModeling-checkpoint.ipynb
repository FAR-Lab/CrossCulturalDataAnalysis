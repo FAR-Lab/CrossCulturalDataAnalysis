{
 "cells": [
  {
   "cell_type": "code",
   "execution_count": 6,
   "id": "45b07a4f-5cb4-4ae9-9eb5-bb22145b9276",
   "metadata": {
    "tags": []
   },
   "outputs": [],
   "source": [
    "import matplotlib.pyplot as plt\n",
    "import pandas as pd\n",
    "import re\n",
    "from pathlib import Path\n",
    "import numpy as np\n",
    "import random\n",
    "import os"
   ]
  },
  {
   "cell_type": "code",
   "execution_count": 14,
   "id": "8e97aea4-9bae-4e81-b9ae-70e00046b053",
   "metadata": {
    "tags": []
   },
   "outputs": [
    {
     "name": "stdout",
     "output_type": "stream",
     "text": [
      "Successfully deleted file at C:\\Users\\farla\\OneDrive\\Documents\\GitHub\\CrossCulturalDataAnalysis\\CleanedData\\ISR07\\Simulator outputs\\csv\\CSVScenario-CP8_Session-isr07_2022-06-01-17-08-47.csv\n",
      "Successfully deleted file at C:\\Users\\farla\\OneDrive\\Documents\\GitHub\\CrossCulturalDataAnalysis\\CleanedData\\ISR08\\Simulator outputs\\csv\\CSVScenario-CP8_Session-ISR08_2022-06-06-10-25-48.csv\n",
      "Successfully deleted file at C:\\Users\\farla\\OneDrive\\Documents\\GitHub\\CrossCulturalDataAnalysis\\CleanedData\\ISR12\\Simulator outputs\\csv\\CSVScenario-CP8_Session-ISR12_2022-06-07-11-35-34.csv\n",
      "Successfully deleted file at C:\\Users\\farla\\OneDrive\\Documents\\GitHub\\CrossCulturalDataAnalysis\\CleanedData\\ISR13\\Simulator outputs\\csv\\CSVScenario-CP8_Session-ISR13_2022-06-07-14-16-51.csv\n",
      "Successfully deleted file at C:\\Users\\farla\\OneDrive\\Documents\\GitHub\\CrossCulturalDataAnalysis\\CleanedData\\ISR22\\Simulator outputs\\csv\\CSVScenario-CP8_Session-ISR22_2022-06-13-17-10-47.csv\n",
      "Successfully deleted file at C:\\Users\\farla\\OneDrive\\Documents\\GitHub\\CrossCulturalDataAnalysis\\CleanedData\\ISR24\\Simulator outputs\\csv\\CSVScenario-CP8_Session-ISR24_2022-06-15-12-00-10.csv\n",
      "Successfully deleted file at C:\\Users\\farla\\OneDrive\\Documents\\GitHub\\CrossCulturalDataAnalysis\\CleanedData\\ISR28\\Simulator outputs\\csv\\CSVScenario-CP8_Session-ISR28_2022-06-26-15-05-28.csv\n",
      "Successfully deleted file at C:\\Users\\farla\\OneDrive\\Documents\\GitHub\\CrossCulturalDataAnalysis\\CleanedData\\ISR32\\Simulator outputs\\csv\\CSVScenario-CP8_Session-ISR32_2022-06-27-16-29-58.csv\n",
      "Successfully deleted file at C:\\Users\\farla\\OneDrive\\Documents\\GitHub\\CrossCulturalDataAnalysis\\CleanedData\\ISR33\\Simulator outputs\\csv\\CSVScenario-CP8_Session-ISR33_2022-06-27-17-47-11.csv\n",
      "Successfully deleted file at C:\\Users\\farla\\OneDrive\\Documents\\GitHub\\CrossCulturalDataAnalysis\\CleanedData\\ISR36\\Simulator outputs\\csv\\CSVScenario-CP8_Session-ISR36_2022-08-10-10-07-19.csv\n",
      "Successfully deleted file at C:\\Users\\farla\\OneDrive\\Documents\\GitHub\\CrossCulturalDataAnalysis\\CleanedData\\ISR36\\Simulator outputs\\csv\\CSVScenario-CP8_Session-ISR36_2022-08-10-10-08-09.csv\n",
      "Successfully deleted file at C:\\Users\\farla\\OneDrive\\Documents\\GitHub\\CrossCulturalDataAnalysis\\CleanedData\\ISR37\\Simulator outputs\\csv\\CSVScenario-CP8_Session-ISR37_2022-08-10-12-20-10.csv\n",
      "No file found at C:\\Users\\farla\\OneDrive\\Documents\\GitHub\\CrossCulturalDataAnalysis\\CleanedData\\ITH10\\csv\\CSVScenario-CP8_Session-ITH10_2023-02-03-16-11-47.csv\n",
      "Successfully deleted file at C:\\Users\\farla\\OneDrive\\Documents\\GitHub\\CrossCulturalDataAnalysis\\CleanedData\\NYC1\\DataLogs\\csv\\CSVScenario-CP8_Session-NYC1_2022-07-28-12-16-47.csv\n",
      "Successfully deleted file at C:\\Users\\farla\\OneDrive\\Documents\\GitHub\\CrossCulturalDataAnalysis\\CleanedData\\NYC12\\csv\\CSVScenario-CP8_Session-NYC12_2022-09-15-09-39-07.csv\n",
      "Successfully deleted file at C:\\Users\\farla\\OneDrive\\Documents\\GitHub\\CrossCulturalDataAnalysis\\CleanedData\\NYC13\\csv\\CSVScenario-CP8_Session-NYC13_2022-09-15-11-18-03.csv\n",
      "Successfully deleted file at C:\\Users\\farla\\OneDrive\\Documents\\GitHub\\CrossCulturalDataAnalysis\\CleanedData\\NYC14\\csv\\CSVScenario-CP8_Session-NYC14B_2022-09-15-15-38-30.csv\n",
      "Successfully deleted file at C:\\Users\\farla\\OneDrive\\Documents\\GitHub\\CrossCulturalDataAnalysis\\CleanedData\\NYC20\\csv\\CSVScenario-CP8_Session-NYC20_2022-09-19-15-07-39.csv\n",
      "Successfully deleted file at C:\\Users\\farla\\OneDrive\\Documents\\GitHub\\CrossCulturalDataAnalysis\\CleanedData\\NYC22\\csv\\CSVScenario-CP8_Session-NYC22_2022-09-21-12-53-40.csv\n",
      "Successfully deleted file at C:\\Users\\farla\\OneDrive\\Documents\\GitHub\\CrossCulturalDataAnalysis\\CleanedData\\NYC24\\csv\\CSVScenario-CP8_Session-NYC24_2022-10-06-11-27-52.csv\n",
      "Successfully deleted file at C:\\Users\\farla\\OneDrive\\Documents\\GitHub\\CrossCulturalDataAnalysis\\CleanedData\\NYC25\\csv\\CSVScenario-CP8_Session-NYC25_2022-10-07-10-47-04.csv\n",
      "Successfully deleted file at C:\\Users\\farla\\OneDrive\\Documents\\GitHub\\CrossCulturalDataAnalysis\\CleanedData\\NYC30b\\csv\\CSVScenario-CP8_Session-NYC30b_2022-11-17-10-38-13.csv\n",
      "Successfully deleted file at C:\\Users\\farla\\OneDrive\\Documents\\GitHub\\CrossCulturalDataAnalysis\\CleanedData\\NYC33\\csv\\CSVScenario-CP8_Session-NYC33_2022-11-17-16-59-14.csv\n",
      "Successfully deleted file at C:\\Users\\farla\\OneDrive\\Documents\\GitHub\\CrossCulturalDataAnalysis\\CleanedData\\NYC34\\csv\\CSVScenario-CP8_Session-NYC34_2022-11-21-09-55-31.csv\n",
      "Successfully deleted file at C:\\Users\\farla\\OneDrive\\Documents\\GitHub\\CrossCulturalDataAnalysis\\CleanedData\\NYC35\\csv\\CSVScenario-CP8_Session-NYC35_2022-11-21-15-18-00.csv\n",
      "Successfully deleted file at C:\\Users\\farla\\OneDrive\\Documents\\GitHub\\CrossCulturalDataAnalysis\\CleanedData\\NYC36\\csv\\CSVScenario-CP8_Session-NYC36_2022-11-21-16-44-37.csv\n",
      "Successfully deleted file at C:\\Users\\farla\\OneDrive\\Documents\\GitHub\\CrossCulturalDataAnalysis\\CleanedData\\NYC36\\csv\\CSVScenario-CP8_Session-NYC36_2022-11-21-16-45-12.csv\n",
      "Successfully deleted file at C:\\Users\\farla\\OneDrive\\Documents\\GitHub\\CrossCulturalDataAnalysis\\CleanedData\\NYC40\\csv\\CSVScenario-CP8_Session-NYC40_2022-11-29-15-54-54.csv\n",
      "Successfully deleted file at C:\\Users\\farla\\OneDrive\\Documents\\GitHub\\CrossCulturalDataAnalysis\\CleanedData\\NYC5\\csv\\CSVScenario-CP8_Session-NYC5_2022-08-16-11-53-54.csv\n",
      "Successfully deleted file at C:\\Users\\farla\\OneDrive\\Documents\\GitHub\\CrossCulturalDataAnalysis\\CleanedData\\NYC9\\csv\\CSVScenario-CP8_Session-NYC9_2022-09-13-11-33-31.csv\n",
      "No file found at C:\\Users\\farla\\OneDrive\\Documents\\GitHub\\CrossCulturalDataAnalysis\\CleanedData\\Pilot Study Data\\Pilot 6\\csv\\CSVScenario-CP8_Session-Unnamed_20220426T151536_2022-04-26-16-10-36.csv\n",
      "No file found at C:\\Users\\farla\\OneDrive\\Documents\\GitHub\\CrossCulturalDataAnalysis\\CleanedData\\Pilot Study Data\\Pilot 9 - Ithaca\\csv\\CSVScenario-CP8_Session-Unnamed_20220519T101722_2022-05-19-10-27-42.csv\n",
      "No file found at C:\\Users\\farla\\OneDrive\\Documents\\GitHub\\CrossCulturalDataAnalysis\\CleanedData\\Pilot Study Data\\test-runs\\44\\csv\\CSVScenario-CP8_Session-44_2022-05-18-18-29-54.csv\n",
      "No file found at C:\\Users\\farla\\OneDrive\\Documents\\GitHub\\CrossCulturalDataAnalysis\\CleanedData\\Pilot Study Data\\test-runs\\fsadfs\\csv\\CSVScenario-CP8_Session-fsadfs_2022-05-17-17-55-49.csv\n",
      "No file found at C:\\Users\\farla\\OneDrive\\Documents\\GitHub\\CrossCulturalDataAnalysis\\CleanedData\\Pilot Study Data\\test-runs\\hope\\csv\\CSVScenario-CP8_Session-hope_2022-05-17-15-08-15.csv\n"
     ]
    }
   ],
   "source": [
    "data = pd.read_csv(r\"C:\\Users\\farla\\OneDrive\\Documents\\GitHub\\CrossCulturalDataAnalysis\\CleanedData\\DataValidity\\CP8\\path_validity_CP8_cleaned_followGPS.csv\", sep=';')\n",
    "\n",
    "for index, row in data.iterrows():\n",
    "    if row['Validity'] == False:\n",
    "        # Check if file exists\n",
    "        if os.path.isfile(row['Path']):\n",
    "            try:\n",
    "                # Try to remove file\n",
    "                os.remove(row['Path'])\n",
    "                print(f'Successfully deleted file at {row[\"Path\"]}')\n",
    "            except OSError as e:\n",
    "                print(f'Error: {e.filename} - {e.strerror}.')\n",
    "        else:\n",
    "            print(f'No file found at {row[\"Path\"]}')\n"
   ]
  },
  {
   "cell_type": "code",
   "execution_count": 16,
   "id": "56d66d9c-1d77-43f0-8b02-4ac6726f2f71",
   "metadata": {
    "tags": []
   },
   "outputs": [
    {
     "ename": "KeyError",
     "evalue": "\"None of [Index(['ScenarioTime', 'ThrottleA', 'ThrottleB', 'CarPosXA', 'CarPosXB',\\n       'CarPosZA', 'CarPosZB', 'SteerA', 'SteerB'],\\n      dtype='object')] are in the [columns]\"",
     "output_type": "error",
     "traceback": [
      "\u001b[1;31m---------------------------------------------------------------------------\u001b[0m",
      "\u001b[1;31mKeyError\u001b[0m                                  Traceback (most recent call last)",
      "Cell \u001b[1;32mIn[16], line 14\u001b[0m\n\u001b[0;32m     10\u001b[0m \u001b[38;5;66;03m# Apply your logic\u001b[39;00m\n\u001b[0;32m     11\u001b[0m df\u001b[38;5;241m.\u001b[39mrename(columns\u001b[38;5;241m=\u001b[39m{\u001b[38;5;124m'\u001b[39m\u001b[38;5;124mAccelA\u001b[39m\u001b[38;5;124m'\u001b[39m: \u001b[38;5;124m'\u001b[39m\u001b[38;5;124mThrottleA\u001b[39m\u001b[38;5;124m'\u001b[39m, \u001b[38;5;124m'\u001b[39m\u001b[38;5;124mAccelB\u001b[39m\u001b[38;5;124m'\u001b[39m: \u001b[38;5;124m'\u001b[39m\u001b[38;5;124mThrottleB\u001b[39m\u001b[38;5;124m'\u001b[39m,\n\u001b[0;32m     12\u001b[0m                    \u001b[38;5;124m'\u001b[39m\u001b[38;5;124mHeadPosXA\u001b[39m\u001b[38;5;124m'\u001b[39m: \u001b[38;5;124m'\u001b[39m\u001b[38;5;124mCarPosXA\u001b[39m\u001b[38;5;124m'\u001b[39m, \u001b[38;5;124m'\u001b[39m\u001b[38;5;124mHeadPosXB\u001b[39m\u001b[38;5;124m'\u001b[39m: \u001b[38;5;124m'\u001b[39m\u001b[38;5;124mCarPosXB\u001b[39m\u001b[38;5;124m'\u001b[39m,\n\u001b[0;32m     13\u001b[0m                    \u001b[38;5;124m'\u001b[39m\u001b[38;5;124mHeadPosZA\u001b[39m\u001b[38;5;124m'\u001b[39m: \u001b[38;5;124m'\u001b[39m\u001b[38;5;124mCarPosZA\u001b[39m\u001b[38;5;124m'\u001b[39m, \u001b[38;5;124m'\u001b[39m\u001b[38;5;124mHeadPosZB\u001b[39m\u001b[38;5;124m'\u001b[39m: \u001b[38;5;124m'\u001b[39m\u001b[38;5;124mCarPosZB\u001b[39m\u001b[38;5;124m'\u001b[39m}, inplace\u001b[38;5;241m=\u001b[39m\u001b[38;5;28;01mTrue\u001b[39;00m)\n\u001b[1;32m---> 14\u001b[0m df \u001b[38;5;241m=\u001b[39m \u001b[43mdf\u001b[49m\u001b[43m[\u001b[49m\u001b[43m[\u001b[49m\u001b[38;5;124;43m'\u001b[39;49m\u001b[38;5;124;43mScenarioTime\u001b[39;49m\u001b[38;5;124;43m'\u001b[39;49m\u001b[43m,\u001b[49m\u001b[43m \u001b[49m\u001b[38;5;124;43m'\u001b[39;49m\u001b[38;5;124;43mThrottleA\u001b[39;49m\u001b[38;5;124;43m'\u001b[39;49m\u001b[43m,\u001b[49m\u001b[43m \u001b[49m\u001b[38;5;124;43m'\u001b[39;49m\u001b[38;5;124;43mThrottleB\u001b[39;49m\u001b[38;5;124;43m'\u001b[39;49m\u001b[43m,\u001b[49m\u001b[43m \u001b[49m\u001b[38;5;124;43m'\u001b[39;49m\u001b[38;5;124;43mCarPosXA\u001b[39;49m\u001b[38;5;124;43m'\u001b[39;49m\u001b[43m,\u001b[49m\u001b[43m \u001b[49m\u001b[38;5;124;43m'\u001b[39;49m\u001b[38;5;124;43mCarPosXB\u001b[39;49m\u001b[38;5;124;43m'\u001b[39;49m\u001b[43m,\u001b[49m\u001b[43m \u001b[49m\u001b[38;5;124;43m'\u001b[39;49m\u001b[38;5;124;43mCarPosZA\u001b[39;49m\u001b[38;5;124;43m'\u001b[39;49m\u001b[43m,\u001b[49m\u001b[43m \u001b[49m\u001b[38;5;124;43m'\u001b[39;49m\u001b[38;5;124;43mCarPosZB\u001b[39;49m\u001b[38;5;124;43m'\u001b[39;49m\u001b[43m,\u001b[49m\u001b[43m \u001b[49m\u001b[38;5;124;43m'\u001b[39;49m\u001b[38;5;124;43mSteerA\u001b[39;49m\u001b[38;5;124;43m'\u001b[39;49m\u001b[43m,\u001b[49m\u001b[43m \u001b[49m\u001b[38;5;124;43m'\u001b[39;49m\u001b[38;5;124;43mSteerB\u001b[39;49m\u001b[38;5;124;43m'\u001b[39;49m\u001b[43m]\u001b[49m\u001b[43m]\u001b[49m\n\u001b[0;32m     16\u001b[0m \u001b[38;5;66;03m# Create save path\u001b[39;00m\n\u001b[0;32m     17\u001b[0m save_path \u001b[38;5;241m=\u001b[39m save_folder_path \u001b[38;5;241m/\u001b[39m file_path\u001b[38;5;241m.\u001b[39mrelative_to(source_folder_path)\n",
      "File \u001b[1;32m~\\anaconda3\\envs\\XCData\\lib\\site-packages\\pandas\\core\\frame.py:3813\u001b[0m, in \u001b[0;36mDataFrame.__getitem__\u001b[1;34m(self, key)\u001b[0m\n\u001b[0;32m   3811\u001b[0m     \u001b[38;5;28;01mif\u001b[39;00m is_iterator(key):\n\u001b[0;32m   3812\u001b[0m         key \u001b[38;5;241m=\u001b[39m \u001b[38;5;28mlist\u001b[39m(key)\n\u001b[1;32m-> 3813\u001b[0m     indexer \u001b[38;5;241m=\u001b[39m \u001b[38;5;28;43mself\u001b[39;49m\u001b[38;5;241;43m.\u001b[39;49m\u001b[43mcolumns\u001b[49m\u001b[38;5;241;43m.\u001b[39;49m\u001b[43m_get_indexer_strict\u001b[49m\u001b[43m(\u001b[49m\u001b[43mkey\u001b[49m\u001b[43m,\u001b[49m\u001b[43m \u001b[49m\u001b[38;5;124;43m\"\u001b[39;49m\u001b[38;5;124;43mcolumns\u001b[39;49m\u001b[38;5;124;43m\"\u001b[39;49m\u001b[43m)\u001b[49m[\u001b[38;5;241m1\u001b[39m]\n\u001b[0;32m   3815\u001b[0m \u001b[38;5;66;03m# take() does not accept boolean indexers\u001b[39;00m\n\u001b[0;32m   3816\u001b[0m \u001b[38;5;28;01mif\u001b[39;00m \u001b[38;5;28mgetattr\u001b[39m(indexer, \u001b[38;5;124m\"\u001b[39m\u001b[38;5;124mdtype\u001b[39m\u001b[38;5;124m\"\u001b[39m, \u001b[38;5;28;01mNone\u001b[39;00m) \u001b[38;5;241m==\u001b[39m \u001b[38;5;28mbool\u001b[39m:\n",
      "File \u001b[1;32m~\\anaconda3\\envs\\XCData\\lib\\site-packages\\pandas\\core\\indexes\\base.py:6070\u001b[0m, in \u001b[0;36mIndex._get_indexer_strict\u001b[1;34m(self, key, axis_name)\u001b[0m\n\u001b[0;32m   6067\u001b[0m \u001b[38;5;28;01melse\u001b[39;00m:\n\u001b[0;32m   6068\u001b[0m     keyarr, indexer, new_indexer \u001b[38;5;241m=\u001b[39m \u001b[38;5;28mself\u001b[39m\u001b[38;5;241m.\u001b[39m_reindex_non_unique(keyarr)\n\u001b[1;32m-> 6070\u001b[0m \u001b[38;5;28;43mself\u001b[39;49m\u001b[38;5;241;43m.\u001b[39;49m\u001b[43m_raise_if_missing\u001b[49m\u001b[43m(\u001b[49m\u001b[43mkeyarr\u001b[49m\u001b[43m,\u001b[49m\u001b[43m \u001b[49m\u001b[43mindexer\u001b[49m\u001b[43m,\u001b[49m\u001b[43m \u001b[49m\u001b[43maxis_name\u001b[49m\u001b[43m)\u001b[49m\n\u001b[0;32m   6072\u001b[0m keyarr \u001b[38;5;241m=\u001b[39m \u001b[38;5;28mself\u001b[39m\u001b[38;5;241m.\u001b[39mtake(indexer)\n\u001b[0;32m   6073\u001b[0m \u001b[38;5;28;01mif\u001b[39;00m \u001b[38;5;28misinstance\u001b[39m(key, Index):\n\u001b[0;32m   6074\u001b[0m     \u001b[38;5;66;03m# GH 42790 - Preserve name from an Index\u001b[39;00m\n",
      "File \u001b[1;32m~\\anaconda3\\envs\\XCData\\lib\\site-packages\\pandas\\core\\indexes\\base.py:6130\u001b[0m, in \u001b[0;36mIndex._raise_if_missing\u001b[1;34m(self, key, indexer, axis_name)\u001b[0m\n\u001b[0;32m   6128\u001b[0m     \u001b[38;5;28;01mif\u001b[39;00m use_interval_msg:\n\u001b[0;32m   6129\u001b[0m         key \u001b[38;5;241m=\u001b[39m \u001b[38;5;28mlist\u001b[39m(key)\n\u001b[1;32m-> 6130\u001b[0m     \u001b[38;5;28;01mraise\u001b[39;00m \u001b[38;5;167;01mKeyError\u001b[39;00m(\u001b[38;5;124mf\u001b[39m\u001b[38;5;124m\"\u001b[39m\u001b[38;5;124mNone of [\u001b[39m\u001b[38;5;132;01m{\u001b[39;00mkey\u001b[38;5;132;01m}\u001b[39;00m\u001b[38;5;124m] are in the [\u001b[39m\u001b[38;5;132;01m{\u001b[39;00maxis_name\u001b[38;5;132;01m}\u001b[39;00m\u001b[38;5;124m]\u001b[39m\u001b[38;5;124m\"\u001b[39m)\n\u001b[0;32m   6132\u001b[0m not_found \u001b[38;5;241m=\u001b[39m \u001b[38;5;28mlist\u001b[39m(ensure_index(key)[missing_mask\u001b[38;5;241m.\u001b[39mnonzero()[\u001b[38;5;241m0\u001b[39m]]\u001b[38;5;241m.\u001b[39munique())\n\u001b[0;32m   6133\u001b[0m \u001b[38;5;28;01mraise\u001b[39;00m \u001b[38;5;167;01mKeyError\u001b[39;00m(\u001b[38;5;124mf\u001b[39m\u001b[38;5;124m\"\u001b[39m\u001b[38;5;132;01m{\u001b[39;00mnot_found\u001b[38;5;132;01m}\u001b[39;00m\u001b[38;5;124m not in index\u001b[39m\u001b[38;5;124m\"\u001b[39m)\n",
      "\u001b[1;31mKeyError\u001b[0m: \"None of [Index(['ScenarioTime', 'ThrottleA', 'ThrottleB', 'CarPosXA', 'CarPosXB',\\n       'CarPosZA', 'CarPosZB', 'SteerA', 'SteerB'],\\n      dtype='object')] are in the [columns]\""
     ]
    }
   ],
   "source": [
    "source_folder_path = Path(r\"C:\\Users\\farla\\OneDrive\\Documents\\GitHub\\CrossCulturalDataAnalysis\\CleanedData\")\n",
    "save_folder_path = Path(r\"C:\\Users\\farla\\OneDrive\\Documents\\GitHub\\CrossCulturalDataAnalysis\\TruncatedData\")\n",
    "\n",
    "# Iterate through all csv files in the source folder\n",
    "for file_path in source_folder_path.rglob('**/*.csv'):\n",
    "\n",
    "    df = pd.read_csv(file_path, sep=';')\n",
    "\n",
    "    df.rename(columns={'AccelA': 'ThrottleA', 'AccelB': 'ThrottleB',\n",
    "                       'HeadPosXA': 'CarPosXA', 'HeadPosXB': 'CarPosXB',\n",
    "                       'HeadPosZA': 'CarPosZA', 'HeadPosZB': 'CarPosZB'}, inplace=True)\n",
    "    df = df[['ScenarioTime', 'ThrottleA', 'ThrottleB', 'CarPosXA', 'CarPosXB', 'CarPosZA', 'CarPosZB', 'SteerA', 'SteerB']]\n",
    "\n",
    "    save_path = save_folder_path / file_path.relative_to(source_folder_path)\n",
    "\n",
    "    save_path.parent.mkdir(parents=True, exist_ok=True)\n",
    "\n",
    "    df.to_csv(save_path, sep=';', index=False)\n"
   ]
  },
  {
   "cell_type": "code",
   "execution_count": 4,
   "id": "a35e71eb-186b-42d9-a5e0-9c9374f8c2c6",
   "metadata": {
    "tags": []
   },
   "outputs": [
    {
     "data": {
      "text/html": [
       "<div>\n",
       "<style scoped>\n",
       "    .dataframe tbody tr th:only-of-type {\n",
       "        vertical-align: middle;\n",
       "    }\n",
       "\n",
       "    .dataframe tbody tr th {\n",
       "        vertical-align: top;\n",
       "    }\n",
       "\n",
       "    .dataframe thead th {\n",
       "        text-align: right;\n",
       "    }\n",
       "</style>\n",
       "<table border=\"1\" class=\"dataframe\">\n",
       "  <thead>\n",
       "    <tr style=\"text-align: right;\">\n",
       "      <th></th>\n",
       "      <th>ScenarioTime</th>\n",
       "      <th>ThrottleA</th>\n",
       "      <th>ThrottleB</th>\n",
       "      <th>CarPosXA</th>\n",
       "      <th>CarPosXB</th>\n",
       "      <th>CarPosZA</th>\n",
       "      <th>CarPosZB</th>\n",
       "      <th>SteerA</th>\n",
       "      <th>SteerB</th>\n",
       "    </tr>\n",
       "  </thead>\n",
       "  <tbody>\n",
       "    <tr>\n",
       "      <th>0</th>\n",
       "      <td>0.0000</td>\n",
       "      <td>0.0</td>\n",
       "      <td>0.3135</td>\n",
       "      <td>80.6515</td>\n",
       "      <td>-84.3368</td>\n",
       "      <td>-75.5422</td>\n",
       "      <td>78.2671</td>\n",
       "      <td>-0.0326</td>\n",
       "      <td>0.0171</td>\n",
       "    </tr>\n",
       "    <tr>\n",
       "      <th>1</th>\n",
       "      <td>0.0872</td>\n",
       "      <td>0.0</td>\n",
       "      <td>0.3135</td>\n",
       "      <td>80.6515</td>\n",
       "      <td>-84.3368</td>\n",
       "      <td>-75.5422</td>\n",
       "      <td>78.2671</td>\n",
       "      <td>-0.0326</td>\n",
       "      <td>0.0171</td>\n",
       "    </tr>\n",
       "    <tr>\n",
       "      <th>2</th>\n",
       "      <td>0.1566</td>\n",
       "      <td>0.0</td>\n",
       "      <td>0.3135</td>\n",
       "      <td>80.6514</td>\n",
       "      <td>-84.3327</td>\n",
       "      <td>-75.5424</td>\n",
       "      <td>78.2603</td>\n",
       "      <td>-0.0326</td>\n",
       "      <td>0.0171</td>\n",
       "    </tr>\n",
       "    <tr>\n",
       "      <th>3</th>\n",
       "      <td>0.2263</td>\n",
       "      <td>0.0</td>\n",
       "      <td>0.3135</td>\n",
       "      <td>80.6514</td>\n",
       "      <td>-84.3279</td>\n",
       "      <td>-75.5425</td>\n",
       "      <td>78.2521</td>\n",
       "      <td>-0.0326</td>\n",
       "      <td>0.0171</td>\n",
       "    </tr>\n",
       "    <tr>\n",
       "      <th>4</th>\n",
       "      <td>0.2960</td>\n",
       "      <td>0.0</td>\n",
       "      <td>0.3135</td>\n",
       "      <td>80.6514</td>\n",
       "      <td>-84.3212</td>\n",
       "      <td>-75.5425</td>\n",
       "      <td>78.2410</td>\n",
       "      <td>-0.0319</td>\n",
       "      <td>0.0171</td>\n",
       "    </tr>\n",
       "  </tbody>\n",
       "</table>\n",
       "</div>"
      ],
      "text/plain": [
       "   ScenarioTime  ThrottleA  ThrottleB  CarPosXA  CarPosXB  CarPosZA  CarPosZB  \\\n",
       "0        0.0000        0.0     0.3135   80.6515  -84.3368  -75.5422   78.2671   \n",
       "1        0.0872        0.0     0.3135   80.6515  -84.3368  -75.5422   78.2671   \n",
       "2        0.1566        0.0     0.3135   80.6514  -84.3327  -75.5424   78.2603   \n",
       "3        0.2263        0.0     0.3135   80.6514  -84.3279  -75.5425   78.2521   \n",
       "4        0.2960        0.0     0.3135   80.6514  -84.3212  -75.5425   78.2410   \n",
       "\n",
       "   SteerA  SteerB  \n",
       "0 -0.0326  0.0171  \n",
       "1 -0.0326  0.0171  \n",
       "2 -0.0326  0.0171  \n",
       "3 -0.0326  0.0171  \n",
       "4 -0.0319  0.0171  "
      ]
     },
     "execution_count": 4,
     "metadata": {},
     "output_type": "execute_result"
    }
   ],
   "source": []
  }
 ],
 "metadata": {
  "kernelspec": {
   "display_name": "Python 3 (ipykernel)",
   "language": "python",
   "name": "python3"
  },
  "language_info": {
   "codemirror_mode": {
    "name": "ipython",
    "version": 3
   },
   "file_extension": ".py",
   "mimetype": "text/x-python",
   "name": "python",
   "nbconvert_exporter": "python",
   "pygments_lexer": "ipython3",
   "version": "3.8.17"
  }
 },
 "nbformat": 4,
 "nbformat_minor": 5
}
