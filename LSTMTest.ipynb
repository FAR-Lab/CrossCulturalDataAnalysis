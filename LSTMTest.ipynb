{
 "cells": [
  {
   "cell_type": "code",
   "execution_count": 1,
   "id": "e537cfd9-e990-409b-98fc-9e5e92432693",
   "metadata": {
    "tags": []
   },
   "outputs": [],
   "source": [
    "import matplotlib.pyplot as plt\n",
    "import pandas as pd\n",
    "import re\n",
    "from pathlib import Path\n",
    "import numpy as np\n",
    "import random\n",
    "import os"
   ]
  },
  {
   "cell_type": "code",
   "execution_count": 5,
   "id": "8adb1f7d-5562-4384-a39c-0de47ba6c578",
   "metadata": {
    "tags": []
   },
   "outputs": [
    {
     "name": "stdout",
     "output_type": "stream",
     "text": [
      "C:\\Users\\farla\\OneDrive\\Documents\\GitHub\\CrossCulturalDataAnalysis\\TruncatedData\\ISR01\\Simulator outputs\\csv\\CSVScenario-CP1_Session-isr01_2022-05-31-11-44-09.csv\n",
      "C:\\Users\\farla\\OneDrive\\Documents\\GitHub\\CrossCulturalDataAnalysis\\TruncatedData\\ISR02\\Simulator outputs\\csv\\CSVScenario-CP1_Session-ISR02_2022-05-31-15-21-40.csv\n",
      "C:\\Users\\farla\\OneDrive\\Documents\\GitHub\\CrossCulturalDataAnalysis\\TruncatedData\\ISR03\\Simulator outputs\\csv\\CSVScenario-CP1_Session-ISR03_2022-06-01-10-31-21.csv\n",
      "C:\\Users\\farla\\OneDrive\\Documents\\GitHub\\CrossCulturalDataAnalysis\\TruncatedData\\ISR05\\Simulator outputs\\csv\\CSVScenario-CP1_Session-ISR05_2022-06-01-14-34-44.csv\n",
      "C:\\Users\\farla\\OneDrive\\Documents\\GitHub\\CrossCulturalDataAnalysis\\TruncatedData\\ISR07\\Simulator outputs\\csv\\CSVScenario-CP1_Session-isr07_2022-06-01-17-10-28.csv\n",
      "C:\\Users\\farla\\OneDrive\\Documents\\GitHub\\CrossCulturalDataAnalysis\\TruncatedData\\ISR08\\Simulator outputs\\csv\\CSVScenario-CP1_Session-ISR08_2022-06-06-10-27-30.csv\n",
      "C:\\Users\\farla\\OneDrive\\Documents\\GitHub\\CrossCulturalDataAnalysis\\TruncatedData\\ISR09\\Simulator outputs\\csv\\CSVScenario-CP1_Session-ISR09_2022-06-06-12-35-44.csv\n",
      "C:\\Users\\farla\\OneDrive\\Documents\\GitHub\\CrossCulturalDataAnalysis\\TruncatedData\\ISR10\\Simulator outputs\\csv\\CSVScenario-CP1_Session-ISR10_2022-06-06-14-29-13.csv\n",
      "C:\\Users\\farla\\OneDrive\\Documents\\GitHub\\CrossCulturalDataAnalysis\\TruncatedData\\ISR11\\Simulator outputs\\csv\\CSVScenario-CP1_Session-ISR11_2022-06-06-16-15-33.csv\n",
      "C:\\Users\\farla\\OneDrive\\Documents\\GitHub\\CrossCulturalDataAnalysis\\TruncatedData\\ISR12\\Simulator outputs\\csv\\CSVScenario-CP1_Session-ISR12_2022-06-07-11-39-39.csv\n",
      "C:\\Users\\farla\\OneDrive\\Documents\\GitHub\\CrossCulturalDataAnalysis\\TruncatedData\\ISR14\\Simulator outputs\\csv\\CSVScenario-CP1_Session-ISR14_2022-06-07-16-22-34.csv\n",
      "C:\\Users\\farla\\OneDrive\\Documents\\GitHub\\CrossCulturalDataAnalysis\\TruncatedData\\ISR15\\Simulator outputs\\csv\\CSVScenario-CP1_Session-isr15_2022-06-09-10-22-42.csv\n",
      "C:\\Users\\farla\\OneDrive\\Documents\\GitHub\\CrossCulturalDataAnalysis\\TruncatedData\\ISR16\\Simulator outputs\\csv\\CSVScenario-CP1_Session-ISR16_2022-06-09-12-36-37.csv\n",
      "C:\\Users\\farla\\OneDrive\\Documents\\GitHub\\CrossCulturalDataAnalysis\\TruncatedData\\ISR18\\Simulator outputs\\csv\\CSVScenario-CP1_Session-ISR18_2022-06-12-10-36-50.csv\n",
      "C:\\Users\\farla\\OneDrive\\Documents\\GitHub\\CrossCulturalDataAnalysis\\TruncatedData\\ISR19\\Simulator outputs\\csv\\CSVScenario-CP1_Session-ISR19_2022-06-12-14-53-56.csv\n",
      "C:\\Users\\farla\\OneDrive\\Documents\\GitHub\\CrossCulturalDataAnalysis\\TruncatedData\\ISR20\\Simulator outputs\\csv\\CSVScenario-CP1_Session-isr20_2022-06-13-11-35-38.csv\n",
      "C:\\Users\\farla\\OneDrive\\Documents\\GitHub\\CrossCulturalDataAnalysis\\TruncatedData\\ISR22\\Simulator outputs\\csv\\CSVScenario-CP1_Session-ISR22_2022-06-13-17-18-12.csv\n",
      "C:\\Users\\farla\\OneDrive\\Documents\\GitHub\\CrossCulturalDataAnalysis\\TruncatedData\\ISR23\\Simulator outputs\\csv\\CSVScenario-CP1_Session-ISR23_2022-06-15-10-54-08.csv\n",
      "C:\\Users\\farla\\OneDrive\\Documents\\GitHub\\CrossCulturalDataAnalysis\\TruncatedData\\ISR25\\Simulator outputs\\csv\\CSVScenario-CP1_Session-ISR25_2022-06-16-12-44-13.csv\n",
      "C:\\Users\\farla\\OneDrive\\Documents\\GitHub\\CrossCulturalDataAnalysis\\TruncatedData\\ISR26\\Simulator outputs\\csv\\CSVScenario-CP1_Session-ISR26_2022-06-16-15-35-50.csv\n",
      "C:\\Users\\farla\\OneDrive\\Documents\\GitHub\\CrossCulturalDataAnalysis\\TruncatedData\\ISR27\\Simulator outputs\\csv\\CSVScenario-CP1_Session-isr27_2022-06-26-11-47-15.csv\n",
      "C:\\Users\\farla\\OneDrive\\Documents\\GitHub\\CrossCulturalDataAnalysis\\TruncatedData\\ISR28\\Simulator outputs\\csv\\CSVScenario-CP1_Session-ISR28_2022-06-26-14-56-21.csv\n",
      "C:\\Users\\farla\\OneDrive\\Documents\\GitHub\\CrossCulturalDataAnalysis\\TruncatedData\\ISR29\\Simulator outputs\\csv\\CSVScenario-CP1_Session-ISR29_2022-06-26-18-10-13.csv\n",
      "C:\\Users\\farla\\OneDrive\\Documents\\GitHub\\CrossCulturalDataAnalysis\\TruncatedData\\ISR30\\Simulator outputs\\csv\\CSVScenario-CP1_Session-ISR30_2022-06-27-13-29-48.csv\n",
      "C:\\Users\\farla\\OneDrive\\Documents\\GitHub\\CrossCulturalDataAnalysis\\TruncatedData\\ISR31\\Simulator outputs\\csv\\CSVScenario-CP1_Session-ISR31_2022-06-27-15-06-33.csv\n",
      "C:\\Users\\farla\\OneDrive\\Documents\\GitHub\\CrossCulturalDataAnalysis\\TruncatedData\\ISR32\\Simulator outputs\\csv\\CSVScenario-CP1_Session-ISR32_2022-06-27-16-33-16.csv\n",
      "C:\\Users\\farla\\OneDrive\\Documents\\GitHub\\CrossCulturalDataAnalysis\\TruncatedData\\ISR33\\Simulator outputs\\csv\\CSVScenario-CP1_Session-ISR33_2022-06-27-17-55-07.csv\n",
      "C:\\Users\\farla\\OneDrive\\Documents\\GitHub\\CrossCulturalDataAnalysis\\TruncatedData\\ISR34\\Simulator outputs\\csv\\CSVScenario-CP1_Session-ISR34_2022-07-31-10-21-54.csv\n",
      "C:\\Users\\farla\\OneDrive\\Documents\\GitHub\\CrossCulturalDataAnalysis\\TruncatedData\\ISR35\\Simulator outputs\\csv\\CSVScenario-CP1_Session-ISR35_2022-07-31-12-29-33.csv\n",
      "C:\\Users\\farla\\OneDrive\\Documents\\GitHub\\CrossCulturalDataAnalysis\\TruncatedData\\ISR36\\Simulator outputs\\csv\\CSVScenario-CP1_Session-ISR36_2022-08-10-10-13-53.csv\n",
      "C:\\Users\\farla\\OneDrive\\Documents\\GitHub\\CrossCulturalDataAnalysis\\TruncatedData\\ISR37\\Simulator outputs\\csv\\CSVScenario-CP1_Session-ISR37_2022-08-10-12-15-25.csv\n",
      "C:\\Users\\farla\\OneDrive\\Documents\\GitHub\\CrossCulturalDataAnalysis\\TruncatedData\\ISR38\\Simulator outputs\\csv\\CSVScenario-CP1_Session-ISR38_2022-08-14-10-11-35.csv\n",
      "C:\\Users\\farla\\OneDrive\\Documents\\GitHub\\CrossCulturalDataAnalysis\\TruncatedData\\ISR39\\Simulator outputs\\csv\\CSVScenario-CP1_Session-ISR39_2022-08-14-12-14-47.csv\n",
      "C:\\Users\\farla\\OneDrive\\Documents\\GitHub\\CrossCulturalDataAnalysis\\TruncatedData\\ISR41\\Simulator outputs\\csv\\CSVScenario-CP1_Session-ISR41_2022-08-21-11-32-28.csv\n",
      "C:\\Users\\farla\\OneDrive\\Documents\\GitHub\\CrossCulturalDataAnalysis\\TruncatedData\\ISR42\\Simulator outputs\\csv\\CSVScenario-CP1_Session-ISR42_2022-08-21-13-06-13.csv\n",
      "C:\\Users\\farla\\OneDrive\\Documents\\GitHub\\CrossCulturalDataAnalysis\\TruncatedData\\NYC10\\csv\\CSVScenario-CP1_Session-NYC10_2022-09-14-11-57-16.csv\n",
      "C:\\Users\\farla\\OneDrive\\Documents\\GitHub\\CrossCulturalDataAnalysis\\TruncatedData\\NYC11\\csv\\CSVScenario-CP1_Session-NYC11_2022-09-14-16-26-15.csv\n",
      "C:\\Users\\farla\\OneDrive\\Documents\\GitHub\\CrossCulturalDataAnalysis\\TruncatedData\\NYC12\\csv\\CSVScenario-CP1_Session-NYC12_2022-09-15-09-44-53.csv\n",
      "C:\\Users\\farla\\OneDrive\\Documents\\GitHub\\CrossCulturalDataAnalysis\\TruncatedData\\NYC13\\csv\\CSVScenario-CP1_Session-NYC13_2022-09-15-11-13-58.csv\n",
      "C:\\Users\\farla\\OneDrive\\Documents\\GitHub\\CrossCulturalDataAnalysis\\TruncatedData\\NYC14\\csv\\CSVScenario-CP1_Session-NYC14B_2022-09-15-15-29-12.csv\n",
      "C:\\Users\\farla\\OneDrive\\Documents\\GitHub\\CrossCulturalDataAnalysis\\TruncatedData\\NYC15\\csv\\CSVScenario-CP1_Session-NYC15_2022-09-16-09-57-43.csv\n",
      "C:\\Users\\farla\\OneDrive\\Documents\\GitHub\\CrossCulturalDataAnalysis\\TruncatedData\\NYC16\\csv\\CSVScenario-CP1_Session-NYC16_2022-09-16-15-37-55.csv\n",
      "C:\\Users\\farla\\OneDrive\\Documents\\GitHub\\CrossCulturalDataAnalysis\\TruncatedData\\NYC17\\csv\\CSVScenario-CP1_Session-NYC17_2022-09-16-17-28-03.csv\n",
      "C:\\Users\\farla\\OneDrive\\Documents\\GitHub\\CrossCulturalDataAnalysis\\TruncatedData\\NYC18\\csv\\CSVScenario-CP1_Session-NYC18_2022-09-19-11-41-57.csv\n",
      "C:\\Users\\farla\\OneDrive\\Documents\\GitHub\\CrossCulturalDataAnalysis\\TruncatedData\\NYC19\\csv\\CSVScenario-CP1_Session-NYC19_2022-09-19-13-40-44.csv\n",
      "C:\\Users\\farla\\OneDrive\\Documents\\GitHub\\CrossCulturalDataAnalysis\\TruncatedData\\NYC2\\csv\\CSVScenario-CP1_Session-NYC2_2022-08-09-14-52-30.csv\n",
      "C:\\Users\\farla\\OneDrive\\Documents\\GitHub\\CrossCulturalDataAnalysis\\TruncatedData\\NYC20\\csv\\CSVScenario-CP1_Session-NYC20_2022-09-19-15-12-43.csv\n",
      "C:\\Users\\farla\\OneDrive\\Documents\\GitHub\\CrossCulturalDataAnalysis\\TruncatedData\\NYC21\\csv\\CSVScenario-CP1_Session-NYC21_2022-09-19-17-11-48.csv\n",
      "C:\\Users\\farla\\OneDrive\\Documents\\GitHub\\CrossCulturalDataAnalysis\\TruncatedData\\NYC23\\csv\\CSVScenario-CP1_Session-NYC23_2022-09-21-14-29-05.csv\n",
      "C:\\Users\\farla\\OneDrive\\Documents\\GitHub\\CrossCulturalDataAnalysis\\TruncatedData\\NYC24\\csv\\CSVScenario-CP1_Session-NYC24_2022-10-06-11-32-02.csv\n",
      "C:\\Users\\farla\\OneDrive\\Documents\\GitHub\\CrossCulturalDataAnalysis\\TruncatedData\\NYC25\\csv\\CSVScenario-CP1_Session-NYC25_2022-10-07-10-42-23.csv\n",
      "C:\\Users\\farla\\OneDrive\\Documents\\GitHub\\CrossCulturalDataAnalysis\\TruncatedData\\NYC26\\csv\\CSVScenario-CP1_Session-NYC26_2022-10-07-15-58-15.csv\n",
      "C:\\Users\\farla\\OneDrive\\Documents\\GitHub\\CrossCulturalDataAnalysis\\TruncatedData\\NYC28\\csv\\CSVScenario-CP1_Session-NYC28_2022-10-28-10-02-58.csv\n",
      "C:\\Users\\farla\\OneDrive\\Documents\\GitHub\\CrossCulturalDataAnalysis\\TruncatedData\\NYC29\\csv\\CSVScenario-CP1_Session-NYC29_2022-11-09-11-33-35.csv\n",
      "C:\\Users\\farla\\OneDrive\\Documents\\GitHub\\CrossCulturalDataAnalysis\\TruncatedData\\NYC29\\csv\\CSVScenario-CP1_Session-NYC29_2022-11-11-11-09-21.csv\n",
      "C:\\Users\\farla\\OneDrive\\Documents\\GitHub\\CrossCulturalDataAnalysis\\TruncatedData\\NYC30b\\csv\\CSVScenario-CP1_Session-NYC30b_2022-11-17-10-33-18.csv\n",
      "C:\\Users\\farla\\OneDrive\\Documents\\GitHub\\CrossCulturalDataAnalysis\\TruncatedData\\NYC32\\csv\\CSVScenario-CP1_Session-NYC32_2022-11-17-15-07-07.csv\n",
      "C:\\Users\\farla\\OneDrive\\Documents\\GitHub\\CrossCulturalDataAnalysis\\TruncatedData\\NYC34\\csv\\CSVScenario-CP1_Session-NYC34_2022-11-21-10-06-04.csv\n",
      "C:\\Users\\farla\\OneDrive\\Documents\\GitHub\\CrossCulturalDataAnalysis\\TruncatedData\\NYC37\\csv\\CSVScenario-CP1_Session-NYC37_2022-11-23-15-24-27.csv\n",
      "C:\\Users\\farla\\OneDrive\\Documents\\GitHub\\CrossCulturalDataAnalysis\\TruncatedData\\NYC38\\csv\\CSVScenario-CP1_Session-NYC38_2022-11-23-17-01-10.csv\n",
      "C:\\Users\\farla\\OneDrive\\Documents\\GitHub\\CrossCulturalDataAnalysis\\TruncatedData\\NYC4\\csv\\CSVScenario-CP1_Session-NYC4_2022-08-12-14-09-37.csv\n",
      "C:\\Users\\farla\\OneDrive\\Documents\\GitHub\\CrossCulturalDataAnalysis\\TruncatedData\\NYC40\\csv\\CSVScenario-CP1_Session-NYC40_2022-11-29-15-51-27.csv\n",
      "C:\\Users\\farla\\OneDrive\\Documents\\GitHub\\CrossCulturalDataAnalysis\\TruncatedData\\NYC41\\csv\\CSVScenario-CP1_Session-NYC41_2022-12-02-11-04-52.csv\n",
      "C:\\Users\\farla\\OneDrive\\Documents\\GitHub\\CrossCulturalDataAnalysis\\TruncatedData\\NYC6\\csv\\CSVScenario-CP1_Session-nyc6parent_2022-09-09-19-56-04.csv\n",
      "C:\\Users\\farla\\OneDrive\\Documents\\GitHub\\CrossCulturalDataAnalysis\\TruncatedData\\NYC7\\csv\\CSVScenario-CP1_Session-NYC7_2022-09-12-10-30-17.csv\n",
      "C:\\Users\\farla\\OneDrive\\Documents\\GitHub\\CrossCulturalDataAnalysis\\TruncatedData\\NYC8\\csv\\CSVScenario-CP1_Session-NYC8_2022-09-12-11-50-59.csv\n",
      "Epoch 1/50\n",
      "15766/15766 [==============================] - 28s 2ms/step - loss: 0.1011 - val_loss: 0.0956\n",
      "Epoch 2/50\n",
      "15766/15766 [==============================] - 27s 2ms/step - loss: 0.0910 - val_loss: 0.0960\n",
      "Epoch 3/50\n",
      "15766/15766 [==============================] - 27s 2ms/step - loss: 0.0879 - val_loss: 0.0957\n"
     ]
    }
   ],
   "source": [
    "import numpy as np\n",
    "import pandas as pd\n",
    "from sklearn.preprocessing import StandardScaler\n",
    "from tensorflow.keras.models import Sequential\n",
    "from tensorflow.keras.layers import Dense, LSTM\n",
    "from tensorflow.keras.optimizers import Adam\n",
    "from tensorflow.keras.callbacks import EarlyStopping\n",
    "\n",
    "def prepare_data(file_list):\n",
    "    df = pd.concat((pd.read_csv(f, sep=\";\") for f in file_list))\n",
    "    features = df.drop('ThrottleA', axis=1)\n",
    "    target = df['ThrottleA']\n",
    "\n",
    "    # Scaling\n",
    "    scaler = StandardScaler()\n",
    "    scaled_features = scaler.fit_transform(features)\n",
    "\n",
    "    # Reshaping the input for LSTM\n",
    "    scaled_features = np.reshape(scaled_features, (scaled_features.shape[0], 1, scaled_features.shape[1]))\n",
    "    \n",
    "    return scaled_features, target, scaler\n",
    "\n",
    "csv_path = Path(r\"C:\\Users\\farla\\OneDrive\\Documents\\GitHub\\CrossCulturalDataAnalysis\\TruncatedData\")\n",
    "\n",
    "my_regex = \".+CP(\\d).+\"\n",
    "wanted_CP_number = 1\n",
    "\n",
    "file_list = []\n",
    "for file_path in csv_path.rglob('*.csv'):\n",
    "    if re.match(my_regex, file_path.name):\n",
    "        if re.match(my_regex, file_path.name).group(1) == str(wanted_CP_number):\n",
    "            file_list.append(file_path)\n",
    "            print(file_path)\n",
    "    file_list.append(file_path)\n",
    "\n",
    "scaled_features, target,scaler = prepare_data(file_list)\n",
    "\n",
    "model = Sequential()\n",
    "model.add(LSTM(50, activation='relu', input_shape=(scaled_features.shape[1], scaled_features.shape[2])))\n",
    "model.add(Dense(1))\n",
    "model.compile(optimizer=Adam(), loss='mse')\n",
    "\n",
    "# Early stopping  --- This seems very unstable at the current point... Need to play with it more\n",
    "early_stopping = EarlyStopping(monitor='val_loss', patience=2)\n",
    "\n",
    "history = model.fit(scaled_features, target, epochs=50, validation_split=0.2, callbacks=[early_stopping])\n"
   ]
  },
  {
   "cell_type": "code",
   "execution_count": 10,
   "id": "92fafaa0-2553-45c2-be2a-ac00d71f61c9",
   "metadata": {
    "tags": []
   },
   "outputs": [
    {
     "name": "stdout",
     "output_type": "stream",
     "text": [
      "39/39 [==============================] - 0s 935us/step\n",
      "[[0.13621694]\n",
      " [0.1356836 ]\n",
      " [0.1355628 ]\n",
      " ...\n",
      " [0.37637824]\n",
      " [0.3499881 ]\n",
      " [0.35108846]]\n"
     ]
    }
   ],
   "source": [
    "# Load new data\n",
    "new_data = pd.read_csv(r\"C:\\Users\\farla\\OneDrive\\Documents\\GitHub\\CrossCulturalDataAnalysis\\TruncatedData\\ISR01\\Simulator outputs\\csv\\CSVScenario-CP1_Session-isr01_2022-05-31-11-44-09.csv\", sep=\";\")\n",
    "\n",
    "new_features = new_data.drop('ThrottleA', axis=1)\n",
    "scaled_new_features = scaler.transform(new_features)\n",
    "scaled_new_features = np.reshape(scaled_new_features, (scaled_new_features.shape[0], 1, scaled_new_features.shape[1]))\n",
    "\n",
    "# Predict\n",
    "predictions = model.predict(scaled_new_features)\n",
    "\n",
    "for prediction in predictions:\n",
    "    print(prediction)\n",
    "\n"
   ]
  }
 ],
 "metadata": {
  "kernelspec": {
   "display_name": "Python 3 (ipykernel)",
   "language": "python",
   "name": "python3"
  },
  "language_info": {
   "codemirror_mode": {
    "name": "ipython",
    "version": 3
   },
   "file_extension": ".py",
   "mimetype": "text/x-python",
   "name": "python",
   "nbconvert_exporter": "python",
   "pygments_lexer": "ipython3",
   "version": "3.8.17"
  }
 },
 "nbformat": 4,
 "nbformat_minor": 5
}
