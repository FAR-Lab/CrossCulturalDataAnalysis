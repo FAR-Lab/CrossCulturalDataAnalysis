{
 "cells": [
  {
   "cell_type": "code",
   "execution_count": 1,
   "id": "dd054aba-890d-43ba-9449-fb905f6755bd",
   "metadata": {
    "tags": []
   },
   "outputs": [],
   "source": [
    "import matplotlib.pyplot as plt\n",
    "import pandas\n",
    "import re\n",
    "from pathlib import Path\n",
    "import numpy as np\n",
    "import random\n",
    "import os\n",
    "\n",
    "import Utilities"
   ]
  },
  {
   "cell_type": "code",
   "execution_count": 2,
   "id": "a23282e8-90ad-4a1a-a7ad-138fe62a31f5",
   "metadata": {
    "tags": []
   },
   "outputs": [],
   "source": [
    "def SetCPList(cp_num):\n",
    "    CPlist_NYC = Utilities.GetScenarioCSVList(cp_num, True, \"NYC\")\n",
    "    CPlist_ITH = Utilities.GetScenarioCSVList(cp_num, True, \"ITH\")\n",
    "    CPlist_ISR = Utilities.GetScenarioCSVList(cp_num, True, \"ISR\")\n",
    "    return CPlist_NYC, CPlist_ITH, CPlist_ISR"
   ]
  },
  {
   "cell_type": "code",
   "execution_count": 5,
   "id": "b766f8b0-697c-4a88-b65c-49985022f0ba",
   "metadata": {
    "tags": []
   },
   "outputs": [],
   "source": [
    "def FirstOutAnalysis(CPlist, carA_out_direction, carB_out_direction, out_threshold):\n",
    "    timeA_list = []\n",
    "    timeB_list = []\n",
    "\n",
    "    for cp in CPlist:\n",
    "        \n",
    "        cwd = os.getcwd()\n",
    "        cp = Path(cwd) / cp\n",
    "\n",
    "        dfA, dfB = Utilities.GetTruncatedScenario(cp, out_threshold)\n",
    "        \n",
    "        # data doesn't have time column, so we need to create one\n",
    "        dfA['Time'] = np.arange(len(dfA))  # arange returns evenly spaced values within a given interval\n",
    "        dfB['Time'] = np.arange(len(dfB))\n",
    "        \n",
    "\n",
    "        timeA, timeB = 99999,99999\n",
    "\n",
    "        if carA_out_direction == \"top\":\n",
    "            # check if carA's Z position is ever greater than the threshold\n",
    "            if dfA['HeadPosZA'].max() > out_threshold - 1:\n",
    "                # if so, get the time when it first happens\n",
    "                # create a new dataframe that only contains the rows where Z position is greater than threshold, then get the first row's time\n",
    "                timeA = dfA.loc[dfA['HeadPosZA'] > out_threshold - 1, 'Time'].iloc[0]   \n",
    "        elif carA_out_direction == \"bottom\":\n",
    "            if dfA['HeadPosZA'].min() < -out_threshold + 1:\n",
    "                timeA = dfA.loc[dfA['HeadPosZA'] < -out_threshold + 1, 'Time'].iloc[0]\n",
    "        elif carA_out_direction == \"left\":\n",
    "            if dfA['HeadPosXA'].min() < -out_threshold + 1:\n",
    "                timeA = dfA.loc[dfA['HeadPosXA'] < -out_threshold + 1, 'Time'].iloc[0]\n",
    "        elif carA_out_direction == \"right\":\n",
    "            if dfA['HeadPosXA'].max() > out_threshold - 1:\n",
    "                timeA = dfA.loc[dfA['HeadPosXA'] > out_threshold - 1, 'Time'].iloc[0]\n",
    "\n",
    "        if carB_out_direction == \"top\":\n",
    "            if dfB['HeadPosZB'].max() > out_threshold - 1:\n",
    "                timeB = dfB.loc[dfB['HeadPosZB'] > out_threshold - 1, 'Time'].iloc[0]\n",
    "        elif carB_out_direction == \"bottom\":\n",
    "            if dfB['HeadPosZB'].min() < -out_threshold + 1:\n",
    "                timeB = dfB.loc[dfB['HeadPosZB'] < -out_threshold + 1, 'Time'].iloc[0]\n",
    "        elif carB_out_direction == \"left\":\n",
    "            if dfB['HeadPosXB'].min() < -out_threshold + 1:\n",
    "                timeB = dfB.loc[dfB['HeadPosXB'] < -out_threshold + 1, 'Time'].iloc[0]\n",
    "        elif carB_out_direction == \"right\":\n",
    "            if dfB['HeadPosXB'].max() > out_threshold - 1:\n",
    "                timeB = dfB.loc[dfB['HeadPosXB'] > out_threshold - 1, 'Time'].iloc[0]\n",
    "\n",
    "        timeA_list.append(timeA)\n",
    "        timeB_list.append(timeB)\n",
    "    \n",
    "    print(timeA_list)\n",
    "    print(timeB_list)\n",
    "\n",
    "    out_first_list = []\n",
    "    # compare which car is out first\n",
    "    for i in range(len(timeA_list)):\n",
    "        if timeA_list[i] < timeB_list[i]:\n",
    "            out_first_list.append(\"A\")\n",
    "        elif timeA_list[i] > timeB_list[i]:\n",
    "            out_first_list.append(\"B\")\n",
    "        else:\n",
    "            out_first_list.append(\"same\")\n",
    "    print(out_first_list)\n",
    "    # print the amount of A and B\n",
    "    print(f\"car A out first: {out_first_list.count('A')}, car B out first: {out_first_list.count('B')}\")\n",
    "\n",
    "    # print the percentage of A and B\n",
    "    print(f\"car A out first: {(out_first_list.count('A') / len(out_first_list))}, car B out first: {out_first_list.count('B') / len(out_first_list)}\")\n",
    "\n",
    "    # print call file path where a car is out first\n",
    "    \"\"\"\n",
    "    for i in range(len(out_first_list)):\n",
    "        if out_first_list[i] == \"A\":\n",
    "            print(CPlist[i])\n",
    "    \"\"\"\n",
    "\n",
    "\n"
   ]
  },
  {
   "cell_type": "code",
   "execution_count": 32,
   "id": "a0b10d0f",
   "metadata": {
    "tags": []
   },
   "outputs": [
    {
     "name": "stdout",
     "output_type": "stream",
     "text": [
      "got 35 csv from CP7 in NYC with validity: True \n",
      "got 10 csv from CP7 in ITH with validity: True \n",
      "got 31 csv from CP7 in ISR with validity: True \n",
      "[99999, 334, 303, 209, 99999, 364, 99999, 163, 99999, 310, 262, 99999, 218, 273, 226, 217, 99999, 293, 165, 539, 292, 309, 99999, 351, 351, 99999, 99999, 208, 432, 99999, 482, 148, 714, 329, 216]\n",
      "[83, 214, 147, 341, 330, 670, 214, 99999, 411, 99999, 99999, 213, 99999, 202, 99999, 99999, 166, 289, 99999, 380, 343, 381, 213, 99999, 389, 466, 330, 99999, 581, 206, 379, 204, 477, 99999, 99999]\n",
      "['B', 'B', 'B', 'A', 'B', 'A', 'B', 'A', 'B', 'A', 'A', 'B', 'A', 'B', 'A', 'A', 'B', 'B', 'A', 'B', 'A', 'A', 'B', 'A', 'A', 'B', 'B', 'A', 'A', 'B', 'B', 'A', 'B', 'A', 'A']\n",
      "car A out first: 18, car B out first: 17\n",
      "car A out first: 0.5142857142857142, car B out first: 0.4857142857142857\n",
      "[167, 414, 244, 99999, 255, 225, 237, 259, 150, 229, 278, 350, 261, 99999, 340, 196, 274, 320, 99999, 99999, 99999, 177, 233, 191, 273, 191, 166, 99999, 136, 184, 431]\n",
      "[259, 99999, 99999, 214, 345, 280, 276, 349, 99999, 99999, 127, 99999, 357, 304, 220, 99999, 364, 99999, 330, 291, 123, 99999, 315, 153, 193, 177, 202, 212, 99999, 99999, 99999]\n",
      "['A', 'A', 'A', 'B', 'A', 'A', 'A', 'A', 'A', 'A', 'B', 'A', 'A', 'B', 'B', 'A', 'A', 'A', 'B', 'B', 'B', 'A', 'A', 'B', 'B', 'B', 'A', 'B', 'A', 'A', 'A']\n",
      "car A out first: 20, car B out first: 11\n",
      "car A out first: 0.6451612903225806, car B out first: 0.3548387096774194\n"
     ]
    }
   ],
   "source": [
    "# create a dictionary to store out direction of each cp\n",
    "# key: cp number, value: out direction\n",
    "cp_out_direction_A = {}\n",
    "cp_out_direction_B = {}\n",
    "\n",
    "cp_out_direction_A[1] = \"left\"\n",
    "cp_out_direction_B[1] = \"bottom\"\n",
    "cp_out_direction_A[2] = \"left\"\n",
    "cp_out_direction_B[2] = \"right\"\n",
    "cp_out_direction_A[3] = \"left\"\n",
    "cp_out_direction_B[3] = \"bottom\"\n",
    "cp_out_direction_A[5] = \"left\"\n",
    "cp_out_direction_B[5] = \"right\"\n",
    "cp_out_direction_A[6] = \"right\"\n",
    "cp_out_direction_B[6] = \"right\"\n",
    "cp_out_direction_A[7] = \"top\"\n",
    "cp_out_direction_B[7] = \"right\"\n",
    "cp_out_direction_A[8] = \"left\"\n",
    "cp_out_direction_B[8] = \"right\"\n",
    "\n",
    "my_cp = 7\n",
    "bound = 25\n",
    "CPlist_NYC, CPlist_ITH, CPlist_ISR = SetCPList(my_cp)\n",
    "FirstOutAnalysis(CPlist_NYC, cp_out_direction_A[my_cp], cp_out_direction_B[my_cp], bound)\n",
    "FirstOutAnalysis(CPlist_ISR, cp_out_direction_A[my_cp], cp_out_direction_B[my_cp], bound)"
   ]
  },
  {
   "cell_type": "code",
   "execution_count": null,
   "id": "9fe87144",
   "metadata": {},
   "outputs": [],
   "source": []
  },
  {
   "cell_type": "code",
   "execution_count": null,
   "id": "dbf45b71",
   "metadata": {},
   "outputs": [],
   "source": []
  }
 ],
 "metadata": {
  "kernelspec": {
   "display_name": "Python 3 (ipykernel)",
   "language": "python",
   "name": "python3"
  },
  "language_info": {
   "codemirror_mode": {
    "name": "ipython",
    "version": 3
   },
   "file_extension": ".py",
   "mimetype": "text/x-python",
   "name": "python",
   "nbconvert_exporter": "python",
   "pygments_lexer": "ipython3",
   "version": "3.8.17"
  }
 },
 "nbformat": 4,
 "nbformat_minor": 5
}
