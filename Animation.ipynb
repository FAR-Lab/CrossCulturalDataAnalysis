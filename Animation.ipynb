{
 "cells": [
  {
   "cell_type": "code",
   "execution_count": 97,
   "id": "00822b63-0511-4ff7-b855-21b1c54411a6",
   "metadata": {
    "tags": []
   },
   "outputs": [],
   "source": [
    "import matplotlib.pyplot as plt\n",
    "from matplotlib import animation\n",
    "from matplotlib.patches import Rectangle\n",
    "import pandas\n",
    "import re\n",
    "from pathlib import Path\n",
    "import numpy as np\n",
    "import random\n",
    "import os\n",
    "\n",
    "import Utilities"
   ]
  },
  {
   "cell_type": "code",
   "execution_count": 16,
   "id": "e79438db-1e71-42e4-9203-d23c94d11217",
   "metadata": {
    "tags": []
   },
   "outputs": [
    {
     "name": "stdout",
     "output_type": "stream",
     "text": [
      "CP1 - 314 \n",
      "CP8 - 282 \n",
      "CP7 - 301 \n",
      "CP3 - 309 \n",
      "CP2 - 302 \n",
      "CP5 - 305 \n",
      "CP6 - 281 \n",
      "CP4 - 3 \n"
     ]
    }
   ],
   "source": [
    "csv_categorized = Utilities.GetCSVDictionary()"
   ]
  },
  {
   "cell_type": "code",
   "execution_count": 23,
   "id": "58a081b6",
   "metadata": {},
   "outputs": [
    {
     "ename": "KeyboardInterrupt",
     "evalue": "",
     "output_type": "error",
     "traceback": [
      "\u001b[0;31m---------------------------------------------------------------------------\u001b[0m",
      "\u001b[0;31mKeyboardInterrupt\u001b[0m                         Traceback (most recent call last)",
      "Cell \u001b[0;32mIn[23], line 1\u001b[0m\n\u001b[0;32m----> 1\u001b[0m scenarioNumber\u001b[38;5;241m=\u001b[39m\u001b[38;5;124;43m'\u001b[39;49m\u001b[38;5;124;43m1\u001b[39;49m\u001b[38;5;124;43m'\u001b[39;49m\n\u001b[1;32m      2\u001b[0m CombinedRender \u001b[38;5;241m=\u001b[39m [   \u001b[38;5;66;03m#CP1\u001b[39;00m\n\u001b[1;32m      3\u001b[0m \u001b[38;5;124m\"\u001b[39m\u001b[38;5;124mISR02\u001b[39m\u001b[38;5;124m\"\u001b[39m,\n\u001b[1;32m      4\u001b[0m \u001b[38;5;124m\"\u001b[39m\u001b[38;5;124mISR03\u001b[39m\u001b[38;5;124m\"\u001b[39m,\n\u001b[0;32m   (...)\u001b[0m\n\u001b[1;32m     63\u001b[0m \u001b[38;5;124m\"\u001b[39m\u001b[38;5;124mNYC42\u001b[39m\u001b[38;5;124m\"\u001b[39m\n\u001b[1;32m     64\u001b[0m ]\n",
      "File \u001b[0;32m~/GitRepos/CrossCulturalDataAnalysis/.venv/lib/python3.12/site-packages/debugpy/_vendored/pydevd/_pydevd_bundle/pydevd_frame.py:988\u001b[0m, in \u001b[0;36mPyDBFrame.trace_dispatch\u001b[0;34m(self, frame, event, arg)\u001b[0m\n\u001b[1;32m    986\u001b[0m \u001b[38;5;66;03m# if thread has a suspend flag, we suspend with a busy wait\u001b[39;00m\n\u001b[1;32m    987\u001b[0m \u001b[38;5;28;01mif\u001b[39;00m info\u001b[38;5;241m.\u001b[39mpydev_state \u001b[38;5;241m==\u001b[39m STATE_SUSPEND:\n\u001b[0;32m--> 988\u001b[0m     \u001b[38;5;28;43mself\u001b[39;49m\u001b[38;5;241;43m.\u001b[39;49m\u001b[43mdo_wait_suspend\u001b[49m\u001b[43m(\u001b[49m\u001b[43mthread\u001b[49m\u001b[43m,\u001b[49m\u001b[43m \u001b[49m\u001b[43mframe\u001b[49m\u001b[43m,\u001b[49m\u001b[43m \u001b[49m\u001b[43mevent\u001b[49m\u001b[43m,\u001b[49m\u001b[43m \u001b[49m\u001b[43marg\u001b[49m\u001b[43m)\u001b[49m\n\u001b[1;32m    989\u001b[0m     \u001b[38;5;28;01mreturn\u001b[39;00m \u001b[38;5;28mself\u001b[39m\u001b[38;5;241m.\u001b[39mtrace_dispatch\n\u001b[1;32m    990\u001b[0m \u001b[38;5;28;01melse\u001b[39;00m:\n",
      "File \u001b[0;32m~/GitRepos/CrossCulturalDataAnalysis/.venv/lib/python3.12/site-packages/debugpy/_vendored/pydevd/_pydevd_bundle/pydevd_frame.py:165\u001b[0m, in \u001b[0;36mPyDBFrame.do_wait_suspend\u001b[0;34m(self, *args, **kwargs)\u001b[0m\n\u001b[1;32m    164\u001b[0m \u001b[38;5;28;01mdef\u001b[39;00m \u001b[38;5;21mdo_wait_suspend\u001b[39m(\u001b[38;5;28mself\u001b[39m, \u001b[38;5;241m*\u001b[39margs, \u001b[38;5;241m*\u001b[39m\u001b[38;5;241m*\u001b[39mkwargs):\n\u001b[0;32m--> 165\u001b[0m     \u001b[38;5;28;43mself\u001b[39;49m\u001b[38;5;241;43m.\u001b[39;49m\u001b[43m_args\u001b[49m\u001b[43m[\u001b[49m\u001b[38;5;241;43m0\u001b[39;49m\u001b[43m]\u001b[49m\u001b[38;5;241;43m.\u001b[39;49m\u001b[43mdo_wait_suspend\u001b[49m\u001b[43m(\u001b[49m\u001b[38;5;241;43m*\u001b[39;49m\u001b[43margs\u001b[49m\u001b[43m,\u001b[49m\u001b[43m \u001b[49m\u001b[38;5;241;43m*\u001b[39;49m\u001b[38;5;241;43m*\u001b[39;49m\u001b[43mkwargs\u001b[49m\u001b[43m)\u001b[49m\n",
      "File \u001b[0;32m~/GitRepos/CrossCulturalDataAnalysis/.venv/lib/python3.12/site-packages/debugpy/_vendored/pydevd/pydevd.py:2070\u001b[0m, in \u001b[0;36mPyDB.do_wait_suspend\u001b[0;34m(self, thread, frame, event, arg, exception_type)\u001b[0m\n\u001b[1;32m   2067\u001b[0m             from_this_thread\u001b[38;5;241m.\u001b[39mappend(frame_custom_thread_id)\n\u001b[1;32m   2069\u001b[0m     \u001b[38;5;28;01mwith\u001b[39;00m \u001b[38;5;28mself\u001b[39m\u001b[38;5;241m.\u001b[39m_threads_suspended_single_notification\u001b[38;5;241m.\u001b[39mnotify_thread_suspended(thread_id, thread, stop_reason):\n\u001b[0;32m-> 2070\u001b[0m         keep_suspended \u001b[38;5;241m=\u001b[39m \u001b[38;5;28;43mself\u001b[39;49m\u001b[38;5;241;43m.\u001b[39;49m\u001b[43m_do_wait_suspend\u001b[49m\u001b[43m(\u001b[49m\u001b[43mthread\u001b[49m\u001b[43m,\u001b[49m\u001b[43m \u001b[49m\u001b[43mframe\u001b[49m\u001b[43m,\u001b[49m\u001b[43m \u001b[49m\u001b[43mevent\u001b[49m\u001b[43m,\u001b[49m\u001b[43m \u001b[49m\u001b[43marg\u001b[49m\u001b[43m,\u001b[49m\u001b[43m \u001b[49m\u001b[43msuspend_type\u001b[49m\u001b[43m,\u001b[49m\u001b[43m \u001b[49m\u001b[43mfrom_this_thread\u001b[49m\u001b[43m,\u001b[49m\u001b[43m \u001b[49m\u001b[43mframes_tracker\u001b[49m\u001b[43m)\u001b[49m\n\u001b[1;32m   2072\u001b[0m frames_list \u001b[38;5;241m=\u001b[39m \u001b[38;5;28;01mNone\u001b[39;00m\n\u001b[1;32m   2074\u001b[0m \u001b[38;5;28;01mif\u001b[39;00m keep_suspended:\n\u001b[1;32m   2075\u001b[0m     \u001b[38;5;66;03m# This means that we should pause again after a set next statement.\u001b[39;00m\n",
      "File \u001b[0;32m~/GitRepos/CrossCulturalDataAnalysis/.venv/lib/python3.12/site-packages/debugpy/_vendored/pydevd/pydevd.py:2106\u001b[0m, in \u001b[0;36mPyDB._do_wait_suspend\u001b[0;34m(self, thread, frame, event, arg, suspend_type, from_this_thread, frames_tracker)\u001b[0m\n\u001b[1;32m   2103\u001b[0m         \u001b[38;5;28mself\u001b[39m\u001b[38;5;241m.\u001b[39m_call_input_hook()\n\u001b[1;32m   2105\u001b[0m     \u001b[38;5;28mself\u001b[39m\u001b[38;5;241m.\u001b[39mprocess_internal_commands()\n\u001b[0;32m-> 2106\u001b[0m     \u001b[43mtime\u001b[49m\u001b[38;5;241;43m.\u001b[39;49m\u001b[43msleep\u001b[49m\u001b[43m(\u001b[49m\u001b[38;5;241;43m0.01\u001b[39;49m\u001b[43m)\u001b[49m\n\u001b[1;32m   2108\u001b[0m \u001b[38;5;28mself\u001b[39m\u001b[38;5;241m.\u001b[39mcancel_async_evaluation(get_current_thread_id(thread), \u001b[38;5;28mstr\u001b[39m(\u001b[38;5;28mid\u001b[39m(frame)))\n\u001b[1;32m   2110\u001b[0m \u001b[38;5;66;03m# process any stepping instructions\u001b[39;00m\n",
      "\u001b[0;31mKeyboardInterrupt\u001b[0m: "
     ]
    }
   ],
   "source": [
    "scenarioNumber='1'\n",
    "CombinedRender = [   #CP1\n",
    "\"ISR02\",\n",
    "\"ISR03\",\n",
    "\"ISR05\",\n",
    "\"ISR08\",\n",
    "\"ISR09\",\n",
    "\"ISR10\",\n",
    "\"ISR12\",\n",
    "\"ISR14\",\n",
    "\"ISR16\",\n",
    "\"ISR18\",\n",
    "\"ISR19\",\n",
    "\"ISR21\",\n",
    "\"ISR22\",\n",
    "\"ISR23\",\n",
    "\"ISR24\",\n",
    "\"ISR25\",\n",
    "\"ISR26\",\n",
    "\"ISR28\",\n",
    "\"ISR29\",\n",
    "\"ISR30\",\n",
    "\"ISR31\",\n",
    "\"ISR32\",\n",
    "\"ISR33\",\n",
    "\"ISR34\",\n",
    "\"ISR35\",\n",
    "\"ISR36\",\n",
    "\"ISR37\",\n",
    "\"ISR38\",\n",
    "\"ISR39\",\n",
    "\"ISR41\",\n",
    "\"ISR42\",\n",
    "\"NYC10\",\n",
    "\"NYC11\",\n",
    "\"NYC13\",\n",
    "\"NYC16\",\n",
    "\"NYC17\",\n",
    "\"NYC18\",\n",
    "\"NYC19\",\n",
    "\"NYC20\",\n",
    "\"NYC21\",\n",
    "\"NYC22\",\n",
    "\"NYC23\",\n",
    "\"NYC24\",\n",
    "\"NYC25\",\n",
    "\"NYC26\",\n",
    "\"NYC27\",\n",
    "\"NYC28\",\n",
    "\"NYC29\",\n",
    "\"NYC32\",\n",
    "\"NYC35\",\n",
    "\"NYC36\",\n",
    "\"NYC37\",\n",
    "\"NYC38\",\n",
    "\"NYC39\",\n",
    "\"NYC40\",\n",
    "\"NYC41\",\n",
    "\"NYC42\",\n",
    "\"NYC41\",\n",
    "\"NYC42\",\n",
    "\"NYC41\",\n",
    "\"NYC42\"\n",
    "]"
   ]
  },
  {
   "cell_type": "code",
   "execution_count": 32,
   "id": "99e8fcee",
   "metadata": {},
   "outputs": [
    {
     "name": "stdout",
     "output_type": "stream",
     "text": [
      "we got all files\n"
     ]
    }
   ],
   "source": [
    "\n",
    "renderdict={}\n",
    "for scen in csv_categorized[scenarioNumber]:\n",
    "    Name = scen.name\n",
    "    pair =Name.split('_')[1].split('-')[1]\n",
    "    if(pair in CombinedRender):\n",
    "        renderdict[pair]=scen\n",
    "a= [x for x in renderdict.keys() if x not in CombinedRender]   \n",
    "if(len(a)>0):\n",
    "    print(\"we are missing a file\",a)\n",
    "else:\n",
    "    print(\"we got all files\")\n",
    "\n",
    "    "
   ]
  },
  {
   "cell_type": "code",
   "execution_count": 39,
   "id": "b0a159df",
   "metadata": {},
   "outputs": [],
   "source": [
    "cwd = os.getcwd()\n",
    "video_out = Path(cwd) / 'VideoPath'"
   ]
  },
  {
   "cell_type": "code",
   "execution_count": 129,
   "id": "30723b5f-5557-4661-9f8e-17591372ab02",
   "metadata": {
    "tags": []
   },
   "outputs": [],
   "source": [
    "\n",
    "def DrawAnimationVideo(path,name,outputPath):   \n",
    "    wantedDistanceWithin = 35\n",
    "    df = pandas.read_csv(path, sep=';')\n",
    "    dfLimit = df[\\\n",
    "         ((df['HeadPosXA'] > -wantedDistanceWithin) & (df['HeadPosXA'] < wantedDistanceWithin)) \\\n",
    "            & ((df['HeadPosZA'] > -wantedDistanceWithin) & (df['HeadPosZA'] < wantedDistanceWithin))\\\n",
    "            & ((df['HeadPosXB'] > -wantedDistanceWithin) & (df['HeadPosXB'] < wantedDistanceWithin)) \\\n",
    "            & ((df['HeadPosZB'] > -wantedDistanceWithin) & (df['HeadPosZB'] < wantedDistanceWithin))]\n",
    "    #print(df.columns)\n",
    "   \n",
    "    frameCount = len(dfLimit)\n",
    "    length= dfLimit[\"ScenarioTime\"].iloc[-1] - dfLimit[\"ScenarioTime\"].iloc[0]\n",
    "    frameTime = length/frameCount\n",
    "    #print(f\"FrameTime:{frameTime}, frameCount:{frameCount}, length:{length}\")\n",
    "    \n",
    "\n",
    "    fig, ax = plt.subplots()\n",
    "    fig.set_size_inches(8, 8, True)\n",
    "    ax.set_title=name\n",
    "    ax.axis('equal')\n",
    "    ax.set(xlim=[-wantedDistanceWithin, wantedDistanceWithin], ylim=[-wantedDistanceWithin, wantedDistanceWithin], xlabel='x', ylabel='y')\n",
    "   \n",
    "    scatA = ax.scatter(dfLimit['HeadPosXA'].iloc[0], dfLimit['HeadPosZA'].iloc[0], c=\"r\", s=5, label=f'A')\n",
    "    scatB = ax.scatter(dfLimit['HeadPosXB'].iloc[0], dfLimit['HeadPosZB'].iloc[0], c=\"b\", s=5, label=f'B')\n",
    "    txt = ax.text(0,37,f\"{name} : {dfLimit[\"ScenarioTime\"].iloc[0]:.1f}\",fontsize=14,horizontalalignment='center',verticalalignment='center')\n",
    "    \n",
    "    rect = ax.add_patch(Rectangle((dfLimit['HeadPosXA'].iloc[0], dfLimit['HeadPosZA'].iloc[0]),2,3.6,angle=-dfLimit['HeadrotYA'].iloc[0],rotation_point='xy'))\n",
    "    rect.set_color('r')\n",
    "    ax.legend()\n",
    "    def update(frame):\n",
    "        # update the scatter plot:\n",
    "        dataA = np.stack([dfLimit['HeadPosXA'].iloc[frame], dfLimit['HeadPosZA'].iloc[frame]]).T\n",
    "        scatA.set_offsets(dataA)\n",
    "\n",
    "        dataB = np.stack([dfLimit['HeadPosXB'].iloc[frame], dfLimit['HeadPosZB'].iloc[frame]]).T\n",
    "        scatB.set_offsets(dataB)\n",
    "        txt.set_text(f\"{name} : {dfLimit[\"ScenarioTime\"].iloc[frame]:.1f}\")\n",
    "\n",
    "        rect.set_xy(dataA)\n",
    "        rect.set_angle(-dfLimit['HeadrotYA'].iloc[frame])\n",
    "        return (scatA,scatB,txt,rect)\n",
    "\n",
    "    ani = animation.FuncAnimation(fig=fig, func=update, frames=frameCount, interval=1000*frameTime)\n",
    "    ani.save(filename=outputPath, writer=\"ffmpeg\",dpi=100)"
   ]
  },
  {
   "cell_type": "code",
   "execution_count": 130,
   "id": "7da91199-f24b-4c2e-86f0-ce2e71db017c",
   "metadata": {
    "tags": []
   },
   "outputs": [
    {
     "name": "stdout",
     "output_type": "stream",
     "text": [
      "Index(['AccelA', 'AccelB', 'ButtonA', 'ButtonB', 'Car PositionXA',\n",
      "       'Car PositionXB', 'Car PositionYA', 'Car PositionYB', 'Car PositionZA',\n",
      "       'Car PositionZB', 'Car RotationXA', 'Car RotationXB', 'Car RotationYA',\n",
      "       'Car RotationYB', 'Car RotationZA', 'Car RotationZB', 'Car VelocityXB',\n",
      "       'Car VelocityYA', 'Car VelocityYB', 'Car VelocityZA', 'Car VelocityZB',\n",
      "       'CarVelocityXA', 'Frame Number', 'FrameRate', 'GameTime', 'HeadPosXA',\n",
      "       'HeadPosXB', 'HeadPosYA', 'HeadPosYB', 'HeadPosZA', 'HeadPosZB',\n",
      "       'HeadrotXA', 'HeadrotXB', 'HeadrotYA', 'HeadrotYB', 'HeadrotZA',\n",
      "       'HeadrotZB', 'IndicatorsA', 'IndicatorsB', 'LeftHandA', 'LeftHandB',\n",
      "       'RightHandA', 'RightHandB', 'ScenarioTime', 'SteerA', 'SteerB'],\n",
      "      dtype='object')\n",
      "FrameTime:0.07016582733812951, frameCount:278, length:19.506100000000004\n"
     ]
    },
    {
     "data": {
      "image/png": "[encoded data removed]",
      "text/plain": [
       "<Figure size 800x800 with 1 Axes>"
      ]
     },
     "metadata": {},
     "output_type": "display_data"
    }
   ],
   "source": [
    "DrawAnimationVideo(renderdict[\"ISR02\"],\"ISR02\",video_out / \"scenario{1}-ISR02.mp4\")"
   ]
  },
  {
   "cell_type": "code",
   "execution_count": null,
   "id": "45993b58",
   "metadata": {},
   "outputs": [],
   "source": []
  }
 ],
 "metadata": {
  "kernelspec": {
   "display_name": "Python 3 (ipykernel)",
   "language": "python",
   "name": "python3"
  },
  "language_info": {
   "codemirror_mode": {
    "name": "ipython",
    "version": 3
   },
   "file_extension": ".py",
   "mimetype": "text/x-python",
   "name": "python",
   "nbconvert_exporter": "python",
   "pygments_lexer": "ipython3",
   "version": "3.12.2"
  }
 },
 "nbformat": 4,
 "nbformat_minor": 5
}
