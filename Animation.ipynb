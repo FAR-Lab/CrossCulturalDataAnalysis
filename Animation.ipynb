{
 "cells": [
  {
   "cell_type": "code",
   "execution_count": 2,
   "id": "00822b63-0511-4ff7-b855-21b1c54411a6",
   "metadata": {
    "tags": []
   },
   "outputs": [],
   "source": [
    "import matplotlib.pyplot as plt\n",
    "from matplotlib import animation\n",
    "from matplotlib.patches import Rectangle, Arrow\n",
    "import pandas\n",
    "from pathlib import Path\n",
    "import numpy as np\n",
    "from moviepy.editor import concatenate_videoclips, VideoFileClip\n",
    "from moviepy.video.fx import speedx\n",
    "import os\n",
    "import multiprocess as mp\n",
    "\n",
    "import Utilities"
   ]
  },
  {
   "cell_type": "code",
   "execution_count": 3,
   "id": "e79438db-1e71-42e4-9203-d23c94d11217",
   "metadata": {
    "tags": []
   },
   "outputs": [
    {
     "name": "stdout",
     "output_type": "stream",
     "text": [
      "CP1 - 314 \n",
      "CP8 - 282 \n",
      "CP7 - 301 \n",
      "CP3 - 309 \n",
      "CP2 - 302 \n",
      "CP5 - 305 \n",
      "CP6 - 281 \n",
      "CP4 - 3 \n"
     ]
    }
   ],
   "source": [
    "csv_categorized = Utilities.GetCSVDictionary()"
   ]
  },
  {
   "cell_type": "code",
   "execution_count": 44,
   "id": "58a081b6",
   "metadata": {},
   "outputs": [],
   "source": [
    "StartPosition_A=np.array([80.87,-75.15])\n",
    "StartPosition_B=np.array([-85.28,78.04])\n",
    "initial_Yaw_A = -89.999\n",
    "initial_Yaw_B = 148.662\n",
    "scenarioNumber='1'\n",
    "IdealPathA = \"IdealPathData/CP1_a.npz\"\n",
    "IdealPathB = \"IdealPathData/CP1_b.npz\"\n",
    "CombinedRender = [   #CP1\n",
    "\"ISR02\",\n",
    "\"ISR03\",\n",
    "\"ISR05\",\n",
    "\"ISR08\",\n",
    "\"ISR09\",\n",
    "\"ISR10\",\n",
    "\"ISR12\",\n",
    "\"ISR14\",\n",
    "\"ISR16\",\n",
    "\"ISR18\",\n",
    "\"ISR19\",\n",
    "\"ISR21\",\n",
    "\"ISR22\",\n",
    "\"ISR23\",\n",
    "\"ISR24\",\n",
    "\"ISR25\",\n",
    "\"ISR26\",\n",
    "\"ISR28\",\n",
    "\"ISR29\",\n",
    "\"ISR30\",\n",
    "\"ISR31\",\n",
    "\"ISR32\",\n",
    "\"ISR33\",\n",
    "\"ISR34\",\n",
    "\"ISR35\",\n",
    "\"ISR36\",\n",
    "\"ISR37\",\n",
    "\"ISR38\",\n",
    "\"ISR39\",\n",
    "\"ISR41\",\n",
    "\"ISR42\",\n",
    "\"NYC10\",\n",
    "\"NYC11\",\n",
    "\"NYC13\",\n",
    "\"NYC16\",\n",
    "\"NYC17\",\n",
    "\"NYC18\",\n",
    "\"NYC19\",\n",
    "\"NYC20\",\n",
    "\"NYC21\",\n",
    "\"NYC22\",\n",
    "\"NYC23\",\n",
    "\"NYC24\",\n",
    "\"NYC25\",\n",
    "\"NYC26\",\n",
    "\"NYC27\",\n",
    "\"NYC28\",\n",
    "\"NYC29\",\n",
    "\"NYC32\",\n",
    "\"NYC35\",\n",
    "\"NYC36\",\n",
    "\"NYC37\",\n",
    "\"NYC38\",\n",
    "\"NYC39\",\n",
    "\"NYC40\",\n",
    "\"NYC41\",\n",
    "\"NYC42\",\n",
    "\"NYC41\",\n",
    "\"NYC42\",\n",
    "\"NYC41\",\n",
    "\"NYC42\"\n",
    "]"
   ]
  },
  {
   "cell_type": "code",
   "execution_count": 45,
   "id": "0a51bdef",
   "metadata": {},
   "outputs": [
    {
     "name": "stdout",
     "output_type": "stream",
     "text": [
      "[[ -0.3228     -17.61529259   0.34242066 ...  23.06765556   0.36710951\n",
      "   -1.57985495]\n",
      " [ -0.31946241 -17.478365     0.33881768 ...  22.92081778   0.35446165\n",
      "   -1.58055585]\n",
      " [ -0.3161995  -17.34287721   0.34042766 ...  22.77903987   0.34935508\n",
      "   -1.58106999]\n",
      " ...\n",
      " [ -3.95340917   0.42006685   0.43665663 ...  10.78831798   0.13035834\n",
      "   -1.60510101]\n",
      " [ -4.08062646   0.53974476   0.42736155 ...  10.73620532   0.10749777\n",
      "   -1.60603364]\n",
      " [ -4.20464899   0.65739031   0.40244837 ...  10.6932329    0.05465307\n",
      "   -1.60702106]]\n"
     ]
    }
   ],
   "source": [
    "data = np.load(IdealPathA)\n",
    "\n",
    "# List all arrays in the file\n",
    "print(data['states'])"
   ]
  },
  {
   "cell_type": "code",
   "execution_count": 67,
   "id": "ab4e5ae6",
   "metadata": {},
   "outputs": [],
   "source": [
    "StartPosition_A=np.array([81.03,-75.33])\n",
    "StartPosition_B=np.array([-87.6,88])\n",
    "initial_Yaw_A = -88.328\n",
    "initial_Yaw_B = 160.91\n",
    "scenarioNumber='5'\n",
    "CombinedRender = [#CP5\n",
    "\"ISR02\",\n",
    "\"ISR05\",\n",
    "\"ISR08\",\n",
    "\"ISR09\",\n",
    "\"ISR10\",\n",
    "\"ISR11\",\n",
    "\"ISR12\",\n",
    "\"ISR13\",\n",
    "\"ISR14\",\n",
    "\"ISR16\",\n",
    "\"ISR17\",\n",
    "\"ISR18\",\n",
    "\"ISR19\",\n",
    "\"ISR21\",\n",
    "\"ISR22\",\n",
    "\"ISR23\",\n",
    "\"ISR24\",\n",
    "\"ISR25\",\n",
    "\"ISR26\",\n",
    "\"ISR28\",\n",
    "\"ISR29\",\n",
    "\"ISR30\",\n",
    "\"ISR31\",\n",
    "\"ISR32\",\n",
    "\"ISR33\",\n",
    "\"ISR34\",\n",
    "\"ISR35\",\n",
    "\"ISR36\",\n",
    "\"ISR37\",\n",
    "\"ISR41\",\n",
    "\"ISR42\",\n",
    "\"NYC10\",\n",
    "\"NYC11\",\n",
    "\"NYC12\",\n",
    "\"NYC13\",\n",
    "\"NYC14\",\n",
    "\"NYC15\",\n",
    "\"NYC16\",\n",
    "\"NYC17\",\n",
    "\"NYC19\",\n",
    "\"NYC20\",\n",
    "\"NYC21\",\n",
    "\"NYC22\",\n",
    "\"NYC24\",\n",
    "\"NYC25\",\n",
    "\"NYC26\",\n",
    "\"NYC27\",\n",
    "\"NYC28\",\n",
    "\"NYC29\",\n",
    "\"NYC32\",\n",
    "\"NYC35\",\n",
    "\"NYC36\",\n",
    "\"NYC37\",\n",
    "\"NYC38\",\n",
    "\"NYC39\",\n",
    "\"NYC40\",\n",
    "\"NYC42\"\n",
    "]"
   ]
  },
  {
   "cell_type": "code",
   "execution_count": 68,
   "id": "99e8fcee",
   "metadata": {},
   "outputs": [
    {
     "name": "stdout",
     "output_type": "stream",
     "text": [
      "we got all files\n"
     ]
    }
   ],
   "source": [
    "\n",
    "renderdict={}\n",
    "for scen in csv_categorized[scenarioNumber]:\n",
    "    Name = scen.name\n",
    "    ScenarioName = Name\n",
    "    pair =Name.split('_')[1].split('-')[1]\n",
    "    if(pair in CombinedRender):\n",
    "        renderdict[pair] = scen\n",
    "a= [x for x in renderdict.keys() if x not in CombinedRender]   \n",
    "if(len(a)>0):\n",
    "    print(\"we are missing a file\",a)\n",
    "else:\n",
    "    print(\"we got all files\")\n",
    "\n",
    "    "
   ]
  },
  {
   "cell_type": "code",
   "execution_count": 69,
   "id": "b0a159df",
   "metadata": {},
   "outputs": [],
   "source": [
    "cwd = os.getcwd()\n",
    "video_out = Path(cwd) / 'VideoPath'\n",
    "data_out = Path(cwd) / 'ComputedData'"
   ]
  },
  {
   "cell_type": "code",
   "execution_count": 70,
   "id": "04eb825b",
   "metadata": {},
   "outputs": [],
   "source": [
    "def yaw_san(val):\n",
    "    # Normalize val to the range of [0, 360)\n",
    "    val = val % 360\n",
    "    if val > 180:\n",
    "        # Adjust to (-180, 0]\n",
    "        return val - 360\n",
    "    return val\n",
    "\n",
    "def r_or(vector, angle):\n",
    "    \"\"\"\n",
    "    Rotate a 2D vector (x, z) around the origin by an angle in radians using NumPy.\n",
    "    \n",
    "    Parameters:\n",
    "    - x: The x-coordinate of the vector or an array of x-coordinates.\n",
    "    - z: The z-coordinate of the vector or an array of z-coordinates.\n",
    "    - angle: The rotation angle in radians.\n",
    "    \n",
    "    Returns:\n",
    "    - new_x: The x-coordinate of the rotated vector(s).\n",
    "    - new_z: The z-coordinate of the rotated vector(s).\n",
    "    \"\"\"\n",
    "    angle =np.deg2rad(angle)\n",
    "    rotation_matrix = np.array([[np.cos(angle), -np.sin(angle)],\n",
    "                                [np.sin(angle), np.cos(angle)]])\n",
    "    vectors = np.array(vector)\n",
    "    rotated_vectors = np.dot(rotation_matrix, vectors)\n",
    "    return rotated_vectors\n",
    "\n"
   ]
  },
  {
   "cell_type": "code",
   "execution_count": 19,
   "id": "30723b5f-5557-4661-9f8e-17591372ab02",
   "metadata": {
    "tags": []
   },
   "outputs": [],
   "source": [
    "\n",
    "def DrawAnimationVideo(path,name,outputPath,RenderBackground=True):\n",
    "    print(f\"Starting with {name}!\")  \n",
    "    wantedDistanceWithin = 35\n",
    "    df = pandas.read_csv(path, sep=';')\n",
    "    #print(df.columns)\n",
    "    #return\n",
    "    if('Car PositionXA' not in df.columns):\n",
    "        print(pair, \"Could not compute missing colum\")\n",
    "        return\n",
    "    \n",
    "    firstItemIndex = 0\n",
    "    \n",
    "    offset_Head_A = StartPosition_A - np.array([df['HeadPosXA'].iloc[firstItemIndex],df['HeadPosZA'].iloc[firstItemIndex]])\n",
    "    temp_yaw_A = yaw_san(df['HeadrotYA'].iloc[firstItemIndex])\n",
    "    offset_Yaw_A = -yaw_san(yaw_san(initial_Yaw_A) - temp_yaw_A)\n",
    "    offset_Head_A = r_or(offset_Head_A,temp_yaw_A+offset_Yaw_A)\n",
    "\n",
    "    #temp_yaw_A,offset_Yaw_A,offset_Head_A\n",
    "    \n",
    "    offset_Head_B = StartPosition_B - np.array([df['HeadPosXB'].iloc[firstItemIndex],df['HeadPosZB'].iloc[firstItemIndex]])\n",
    "    #print(offset_Head_B,StartPosition_CP1_B,np.array([df['HeadPosXB'].iloc[0],df['HeadPosZB'].iloc[0]]))\n",
    "    temp_yaw_B = yaw_san(df['HeadrotYB'].iloc[firstItemIndex])\n",
    "    offset_Yaw_B = -yaw_san(yaw_san(initial_Yaw_B) - temp_yaw_B)\n",
    "    offset_Head_B = r_or(offset_Head_B,temp_yaw_B+offset_Yaw_B)\n",
    "\n",
    "\n",
    "    print(f\"A=> is: {temp_yaw_A}\\t should: {initial_Yaw_A }\\t offset: {offset_Yaw_A}, \")\n",
    "    print(f\"B=> is: {temp_yaw_B}\\t should: {initial_Yaw_B }\\t offset: {offset_Yaw_B}, \")\n",
    "    dfLimit = df[\\\n",
    "         ((df['HeadPosXA'] > -wantedDistanceWithin) & (df['HeadPosXA'] < wantedDistanceWithin)) \\\n",
    "            & ((df['HeadPosZA'] > -wantedDistanceWithin) & (df['HeadPosZA'] < wantedDistanceWithin))\\\n",
    "            & ((df['HeadPosXB'] > -wantedDistanceWithin) & (df['HeadPosXB'] < wantedDistanceWithin)) \\\n",
    "            & ((df['HeadPosZB'] > -wantedDistanceWithin) & (df['HeadPosZB'] < wantedDistanceWithin))]\n",
    "    frameCount = len(dfLimit)\n",
    "    length= dfLimit[\"ScenarioTime\"].iloc[-1] - dfLimit[\"ScenarioTime\"].iloc[0]\n",
    "    frameTime = length/frameCount\n",
    "    #print(f\"FrameTime:{frameTime}, frameCount:{frameCount}, length:{length}\")\n",
    "    \n",
    "\n",
    "    fig, ax = plt.subplots()\n",
    "    fig.set_size_inches(8, 8, True)\n",
    "    ax.set_title=name\n",
    "    ax.axis('equal')\n",
    "    ax.set(xlim=[-wantedDistanceWithin, wantedDistanceWithin], ylim=[-wantedDistanceWithin, wantedDistanceWithin], xlabel='x', ylabel='y')\n",
    "   \n",
    "    #scatA = ax.scatter(dfLimit['Car PositionXA'].iloc[0], dfLimit['Car PositionZA'].iloc[0], c=\"g\", s=5, label=f'A')\n",
    "\n",
    "    lineA, = ax.plot(dfLimit['HeadPosXA'].iloc[0], dfLimit['HeadPosZA'].iloc[0], color='r',label=f'A')\n",
    "    lineB, = ax.plot(dfLimit['HeadPosXB'].iloc[0], dfLimit['HeadPosZB'].iloc[0], color='b',label=f'B')\n",
    "    #scatB = ax.scatter(dfLimit['HeadPosXB'].iloc[0], dfLimit['HeadPosZB'].iloc[0], c=\"b\", s=5, label=f'B')\n",
    "    StartValueTime = dfLimit[\"ScenarioTime\"].iloc[0]\n",
    "    txt = ax.text(0,37,f\"{name} : {-StartValueTime+dfLimit[\"ScenarioTime\"].iloc[0]:.1f}\",fontsize=14,horizontalalignment='center',verticalalignment='center')\n",
    "    \n",
    "    if RenderBackground:\n",
    "        im = plt.imread(\"Background_SL.png\")\n",
    "        im = ax.imshow(im, extent=[-35, 35, -35,35])\n",
    "    \n",
    "    \n",
    "    width = 1.85\n",
    "    length = 4.6375\n",
    "    \n",
    "    yawA= yaw_san(-dfLimit['HeadrotYA'].iloc[0]+offset_Yaw_A)\n",
    "    offset_Box_A = -r_or([width/2,length/2],yawA)\n",
    "    offset_Head_A_tmp = r_or(offset_Head_A,yawA)\n",
    "    Point_X_A = dfLimit['HeadPosXA'].iloc[0]+offset_Box_A[0]+offset_Head_A_tmp[0]\n",
    "    Point_Z_A = dfLimit['HeadPosZA'].iloc[0]+offset_Box_A[1]+offset_Head_A_tmp[1]\n",
    "    rectA = ax.add_patch(Rectangle((Point_X_A, Point_Z_A),width,length,angle=yawA,rotation_point='xy'))\n",
    "    rectA.set_color([1,0,0,0.5])\n",
    "    \n",
    "\n",
    "    rectA_OG_yaw = dfLimit['Car RotationYA'].iloc[0]\n",
    "    offset_Box_A_OG = -r_or([width/2,length/2],rectA_OG_yaw)\n",
    "    rectA_OG = ax.add_patch(Rectangle(offset_Box_A_OG+(dfLimit['Car PositionXA'].iloc[0], dfLimit['Car PositionZA'].iloc[0]),width,length,angle=rectA_OG_yaw,rotation_point='xy'))\n",
    "    rectA_OG.set_color([0.8,0.8,0,0.25])\n",
    "\n",
    "\n",
    "\n",
    "    fwd=np.array([0,2])\n",
    "    fwd_tmp = r_or(fwd,yawA)\n",
    "    #arrowA = ax.add_patch(Arrow(Point_X_A, Point_Z_A, fwd_tmp[0], fwd_tmp[1],  head_width=0.1, head_length=0.1, fc='r', ec='r'))\n",
    "    \n",
    "\n",
    "    yawB=yaw_san(-dfLimit['HeadrotYB'].iloc[0]+offset_Yaw_B)\n",
    "    offset_Box_B = -r_or([width/2,length/2],yawB)\n",
    "    offset_Head_B_tmp = r_or(offset_Head_B,yawB)\n",
    "    Point_X_B = dfLimit['HeadPosXB'].iloc[0]+offset_Box_B[0]+offset_Head_B_tmp[0]\n",
    "    Point_Z_B = dfLimit['HeadPosZB'].iloc[0]+offset_Box_B[1]+offset_Head_B_tmp[1]\n",
    "    #print(f\"X: {dfLimit['HeadPosXB'].iloc[0]}   {offset_Box_B[0]}  {offset_Head_B_tmp[0]}\")\n",
    "\n",
    "    #print(f\"Z: {dfLimit['HeadPosZB'].iloc[0]}   {offset_Box_B[1]}  {offset_Head_B_tmp[1]}\")\n",
    "    rectB = ax.add_patch(Rectangle((Point_X_B,Point_Z_B),width,length,angle=yawB,rotation_point='xy'))\n",
    "    rectB.set_color([0,0,1,0.5])\n",
    "    \n",
    "    ax.legend()\n",
    "    def update(frame):\n",
    "        # update the scatter plot:\n",
    "        \n",
    "        lineA.set_data(dfLimit['HeadPosXA'].iloc[:frame], dfLimit['HeadPosZA'].iloc[:frame])\n",
    "        lineB.set_data(dfLimit['HeadPosXB'].iloc[:frame], dfLimit['HeadPosZB'].iloc[:frame])\n",
    "\n",
    "\n",
    "\n",
    "\n",
    "\n",
    "        txt.set_text(f\"{name} : {-StartValueTime+dfLimit[\"ScenarioTime\"].iloc[frame]:.1f}\")\n",
    "\n",
    "        \n",
    "        dataA = np.stack([dfLimit['HeadPosXA'].iloc[frame], dfLimit['HeadPosZA'].iloc[frame]]).T\n",
    "        yawA=yaw_san(-dfLimit['HeadrotYA'].iloc[frame]+offset_Yaw_A)\n",
    "        offset_Box_A = -r_or([width/2,length/2],yawA)\n",
    "        offset_Head_A_tmp = r_or(offset_Head_A,yawA)\n",
    "\n",
    "\n",
    "        #datatest = np.stack([dfLimit['Car PositionXA'].iloc[frame], dfLimit['Car PositionZA'].iloc[frame]]).T\n",
    "        #scatA.set_offsets(datatest)\n",
    "\n",
    "        fwd_tmp = r_or(fwd,yawA)\n",
    "        #arrowA.set_xy(dataA) #= ax.arrow(dataA[0], dataA[1], offset_Head_A_tmp[0]*10, offset_Head_A_tmp[1]*10,  head_width=0.1, head_length=0.1, fc='r', ec='r')\n",
    "    \n",
    "        rectA.set_xy(dataA+offset_Box_A+offset_Head_A_tmp)\n",
    "        rectA.set_angle(yawA)\n",
    "\n",
    "\n",
    "        rectA_OG_yaw = -dfLimit['Car RotationYA'].iloc[frame]\n",
    "        offset_Box_A_OG = -r_or([width/2,length/2],rectA_OG_yaw)\n",
    "        dataA_OG = np.stack([dfLimit['Car PositionXA'].iloc[frame], dfLimit['Car PositionZA'].iloc[frame]]).T\n",
    "        rectA_OG.set_xy(dataA_OG+offset_Box_A_OG)\n",
    "        rectA_OG.set_angle(rectA_OG_yaw)\n",
    "\n",
    "        dataB = np.stack([dfLimit['HeadPosXB'].iloc[frame], dfLimit['HeadPosZB'].iloc[frame]]).T\n",
    "        yawB=yaw_san(-dfLimit['HeadrotYB'].iloc[frame]+offset_Yaw_B)\n",
    "        offset_Box_B = -r_or([width/2,length/2],yawB)\n",
    "        offset_Head_B_tmp = r_or(offset_Head_B,yawB)\n",
    "        rectB.set_xy(dataB+offset_Box_B+offset_Head_B_tmp)\n",
    "        rectB.set_angle(yawB)\n",
    "\n",
    "\n",
    "        return (lineA,lineB,txt,rectA,rectB )#,arrowA)#,scatA)\n",
    "\n",
    "    ani = animation.FuncAnimation(fig=fig, func=update, frames=frameCount, interval=1000*frameTime)\n",
    "    ani.save(filename=outputPath, writer=\"ffmpeg\",dpi=100)\n",
    "    print(f\"Finished {name}!\")  \n",
    "\n",
    "def DrawAnimationVideo_Unpack(data):\n",
    "    return DrawAnimationVideo(data[0],data[1],data[2],data[3])\n"
   ]
  },
  {
   "cell_type": "code",
   "execution_count": 20,
   "id": "7da91199-f24b-4c2e-86f0-ce2e71db017c",
   "metadata": {
    "tags": []
   },
   "outputs": [
    {
     "name": "stdout",
     "output_type": "stream",
     "text": [
      "Starting with testScene!\n"
     ]
    }
   ],
   "source": [
    "testScene = \"NYC39\"\n",
    "test = DrawAnimationVideo(renderdict[testScene],\"testScene\",video_out / f\"scenario{scenarioNumber}-{testScene}_testScene.mp4\",True)"
   ]
  },
  {
   "cell_type": "code",
   "execution_count": null,
   "id": "02afe0e4",
   "metadata": {},
   "outputs": [],
   "source": [
    "ToDoList=[]\n",
    "for pair in renderdict:\n",
    "    tmp = f\"ScenarioCP{scenarioNumber}-{pair}.mp4\"\n",
    "    ToDoList.append([renderdict[pair],tmp,video_out / tmp,False])\n",
    "\n",
    "with mp.Pool(10) as p:\n",
    "    print(\"starting work\")\n",
    "    result = p.map(DrawAnimationVideo_Unpack, ToDoList)"
   ]
  },
  {
   "cell_type": "code",
   "execution_count": 71,
   "id": "89b9deab",
   "metadata": {},
   "outputs": [],
   "source": [
    "\n",
    "def ReCompute(path,name,outpath):\n",
    "    #print(f\"Starting with {name}!\")  \n",
    "    wantedDistanceWithin = 35\n",
    "    df = pandas.read_csv(path, sep=';')\n",
    "    #print(df.columns)\n",
    "    if('Car PositionXA' not in df.columns):\n",
    "        print(pair, \"Could not compute missing colum\")\n",
    "        return\n",
    "    \n",
    "    \n",
    "    offset_Head_A = StartPosition_A - np.array([df['HeadPosXA'].iloc[0],df['HeadPosZA'].iloc[0]])\n",
    "    temp_yaw_A = yaw_san(df['HeadrotYA'].iloc[0])\n",
    "    offset_Yaw_A = -yaw_san(yaw_san(initial_Yaw_A) - temp_yaw_A)\n",
    "    offset_Head_A = r_or(offset_Head_A,temp_yaw_A+offset_Yaw_A)\n",
    "\n",
    "    \n",
    "    offset_Head_B = StartPosition_B - np.array([df['HeadPosXB'].iloc[0],df['HeadPosZB'].iloc[0]])\n",
    "    temp_yaw_B = yaw_san(df['HeadrotYB'].iloc[0])\n",
    "    offset_Yaw_B = -yaw_san(yaw_san(initial_Yaw_B) - temp_yaw_B)\n",
    "    offset_Head_B = r_or(offset_Head_B,temp_yaw_B+offset_Yaw_B)\n",
    "    \n",
    "    def transform_row(row):\n",
    "        # Compute the yaw after normalization and adjustment\n",
    "        yawA = yaw_san(-row['HeadrotYA'] + offset_Yaw_A)\n",
    "        offset_Head_A_tmp = r_or(offset_Head_A, yawA)\n",
    "        Point_X_A = row['HeadPosXA'] + offset_Head_A_tmp[0]\n",
    "        Point_Z_A = row['HeadPosZA'] + offset_Head_A_tmp[1]\n",
    "\n",
    "        yawB = yaw_san(-row['HeadrotYB'] + offset_Yaw_B)\n",
    "        offset_Head_B_tmp = r_or(offset_Head_B, yawA)\n",
    "        Point_X_B = row['HeadPosXB'] + offset_Head_B_tmp[0]\n",
    "        Point_Z_B = row['HeadPosZB'] + offset_Head_B_tmp[1]\n",
    "\n",
    "\n",
    "\n",
    "        return pandas.Series([Point_X_A, Point_Z_A,yawA,Point_X_B,Point_Z_B,yawB])\n",
    "    dfOut= pandas.DataFrame()\n",
    "    dfOut[['X_A', 'Z_A','yaw_A','X_B', 'Z_B','yaw_B']]  = df.apply(transform_row, axis=1)\n",
    "    dfOut['AccelA']= df['AccelA']\n",
    "    dfOut['AccelB']= df['AccelB']\n",
    "    dfOut['SteerA']= df['SteerA']\n",
    "    dfOut['SteerB']= df['SteerB']\n",
    "    dfOut.to_pickle(outpath)\n",
    "    \n",
    "def ReCompute_Unpack(data):\n",
    "    data = ReCompute(data[0],data[1],data[2])\n",
    "    return data[1]"
   ]
  },
  {
   "cell_type": "code",
   "execution_count": 62,
   "id": "dd891fc5",
   "metadata": {},
   "outputs": [],
   "source": [
    "testScene = \"NYC35\"\n",
    "test = ReCompute(renderdict[testScene],\"testScene\",\"./test.pikle\")"
   ]
  },
  {
   "cell_type": "code",
   "execution_count": 63,
   "id": "6bec0e16",
   "metadata": {},
   "outputs": [
    {
     "ename": "AttributeError",
     "evalue": "'NoneType' object has no attribute 'columns'",
     "output_type": "error",
     "traceback": [
      "\u001b[0;31m---------------------------------------------------------------------------\u001b[0m",
      "\u001b[0;31mAttributeError\u001b[0m                            Traceback (most recent call last)",
      "Cell \u001b[0;32mIn[63], line 1\u001b[0m\n\u001b[0;32m----> 1\u001b[0m \u001b[43mtest\u001b[49m\u001b[38;5;241;43m.\u001b[39;49m\u001b[43mcolumns\u001b[49m\n",
      "\u001b[0;31mAttributeError\u001b[0m: 'NoneType' object has no attribute 'columns'"
     ]
    }
   ],
   "source": [
    "test.columns"
   ]
  },
  {
   "cell_type": "code",
   "execution_count": 72,
   "id": "3ecbbe38",
   "metadata": {},
   "outputs": [
    {
     "name": "stdout",
     "output_type": "stream",
     "text": [
      "NYC22\n",
      "NYC25\n",
      "NYC13\n",
      "NYC14\n",
      "ISR25\n",
      "NYC40\n",
      "ISR22\n",
      "ISR14\n",
      "ISR13\n",
      "NYC15\n",
      "NYC12\n",
      "NYC24\n",
      "ISR41\n",
      "ISR12\n",
      "ISR23\n",
      "ISR24\n",
      "ISR08\n",
      "ISR37\n",
      "ISR30\n",
      "NYC39\n",
      "NYC37\n",
      "ISR31\n",
      "ISR09\n",
      "ISR36\n",
      "NYC36\n",
      "NYC38\n",
      "ISR21\n",
      "ISR26\n",
      "ISR19\n",
      "ISR10\n",
      "ISR17\n",
      "ISR28\n",
      "NYC26\n",
      "NYC19\n",
      "NYC21\n",
      "NYC17\n",
      "NYC28\n",
      "NYC10\n",
      "ISR16\n",
      "ISR29\n",
      "ISR11\n",
      "NYC42\n",
      "ISR18\n",
      "NYC11\n",
      "NYC16\n",
      "NYC29\n",
      "NYC20\n",
      "NYC27\n",
      "ISR42\n",
      "ISR02\n",
      "ISR05\n",
      "ISR33\n",
      "ISR34\n",
      "NYC32\n",
      "NYC35\n",
      "ISR35\n",
      "ISR32\n"
     ]
    }
   ],
   "source": [
    "for pair in renderdict:\n",
    "    print(pair)\n",
    "    tmp = f\"ScenarioCP{scenarioNumber}-{pair}.pkl\"\n",
    "    path = data_out / tmp\n",
    "    ReCompute(renderdict[pair],tmp,path)\n"
   ]
  },
  {
   "cell_type": "code",
   "execution_count": 73,
   "id": "1444f561",
   "metadata": {},
   "outputs": [
    {
     "name": "stdout",
     "output_type": "stream",
     "text": [
      "done\n"
     ]
    }
   ],
   "source": [
    "print(\"done\")"
   ]
  },
  {
   "cell_type": "code",
   "execution_count": 41,
   "id": "dfed6acc",
   "metadata": {},
   "outputs": [],
   "source": [
    "values = [(j[0],j[1]) for j in result if j != None]"
   ]
  },
  {
   "cell_type": "code",
   "execution_count": 43,
   "id": "8a4ae9b6",
   "metadata": {},
   "outputs": [
    {
     "data": {
      "text/plain": [
       "[<matplotlib.lines.Line2D at 0x127c69eb0>,\n",
       " <matplotlib.lines.Line2D at 0x128311910>]"
      ]
     },
     "execution_count": 43,
     "metadata": {},
     "output_type": "execute_result"
    },
    {
     "data": {
      "image/png": "[encoded data removed]",
      "text/plain": [
       "<Figure size 640x480 with 1 Axes>"
      ]
     },
     "metadata": {},
     "output_type": "display_data"
    }
   ],
   "source": [
    "plt.plot(values)"
   ]
  },
  {
   "cell_type": "code",
   "execution_count": 11,
   "id": "1f900334",
   "metadata": {},
   "outputs": [
    {
     "name": "stderr",
     "output_type": "stream",
     "text": [
      "t:  67%|██████▋   | 5651/8472 [15:14<00:39, 72.31it/s, now=None]"
     ]
    },
    {
     "name": "stdout",
     "output_type": "stream",
     "text": [
      "Moviepy - Building video /Users/dg/GitRepos/CrossCulturalDataAnalysis/VideoPath/speedUpcompleteVideoh264.mp4.\n",
      "Moviepy - Writing video /Users/dg/GitRepos/CrossCulturalDataAnalysis/VideoPath/speedUpcompleteVideoh264.mp4\n",
      "\n"
     ]
    },
    {
     "name": "stderr",
     "output_type": "stream",
     "text": [
      "t:  67%|██████▋   | 5651/8472 [20:49<00:39, 72.31it/s, now=None]"
     ]
    },
    {
     "name": "stdout",
     "output_type": "stream",
     "text": [
      "Moviepy - Done !\n",
      "Moviepy - video ready /Users/dg/GitRepos/CrossCulturalDataAnalysis/VideoPath/speedUpcompleteVideoh264.mp4\n"
     ]
    }
   ],
   "source": [
    "# Specify the directory containing the video files\n",
    "output_path = 'completeVideoh264.mp4'\n",
    "\n",
    "# Retrieve all video file paths and sort them by creation date\n",
    "video_files = [os.path.join(video_out, f) for f in os.listdir(video_out) if f.endswith(('.mp4', '.avi'))]\n",
    "video_files.sort(key=os.path.getctime)  # Change to os.path.basename for sorting by name\n",
    "\n",
    "# Create a list of VideoFileClip objects\n",
    "clips = [VideoFileClip(f) for f in video_files]\n",
    "\n",
    "# Concatenate the video clips\n",
    "final_clip = concatenate_videoclips(clips)\n",
    "\n",
    "# Write the result to the file system\n",
    "#final_clip.write_videofile(os.path.join(video_out , output_path),codec='libx264', audio=False)\n",
    "\n",
    "speed_up_clip = final_clip.speedx( 10)\n",
    "speed_up_clip.write_videofile(os.path.join(video_out , (\"speedUp\"+output_path)), codec='libx264', audio=False)\n",
    "\n",
    "\n",
    "# Free up resources\n",
    "final_clip.close()\n",
    "for clip in clips:\n",
    "    clip.close()\n"
   ]
  },
  {
   "cell_type": "code",
   "execution_count": null,
   "id": "1ba4ea08",
   "metadata": {},
   "outputs": [
    {
     "data": {
      "image/png": "[encoded data removed]",
      "text/plain": [
       "<Figure size 500x500 with 1 Axes>"
      ]
     },
     "metadata": {},
     "output_type": "display_data"
    }
   ],
   "source": [
    "# Initial forward vector pointing \"up\"\n",
    "forward_vector = np.array([1, 1])\n",
    "\n",
    "# Number of arrows\n",
    "num_arrows = 12\n",
    "\n",
    "# Prepare the plot\n",
    "fig, ax = plt.subplots(figsize=(5, 5))\n",
    "ax.set_xlim(-2, 2)\n",
    "ax.set_ylim(-2, 2)\n",
    "\n",
    "# Angle between each arrow\n",
    "angle_increment = 360 / num_arrows\n",
    "\n",
    "for i in range(num_arrows):\n",
    "    angle = i * angle_increment\n",
    "    # Rotate the forward vector\n",
    "    x, z = r_or(forward_vector, angle)\n",
    "    # Draw the arrow\n",
    "    ax.arrow(0, 0, x, z, head_width=0.1, head_length=0.1, fc='k', ec='k')\n",
    "\n",
    "\n",
    "ax.arrow(1, 1, 0.1799, 0.4413,  head_width=0.1, head_length=0.1, fc='r', ec='r')\n",
    "ax.arrow(0, 0, 0.4412852, -0.1799362,  head_width=0.1, head_length=0.1, fc='b', ec='b')\n",
    "\n",
    "# Display the plot\n",
    "plt.grid(True)\n",
    "plt.axhline(0, color='black',linewidth=0.5)\n",
    "plt.axvline(0, color='black',linewidth=0.5)\n",
    "plt.show()\n"
   ]
  },
  {
   "cell_type": "code",
   "execution_count": null,
   "id": "ba376927",
   "metadata": {},
   "outputs": [
    {
     "name": "stdout",
     "output_type": "stream",
     "text": [
      "NYC42 Could not compute missing colum\n"
     ]
    }
   ],
   "source": [
    "outval = []\n",
    "for pair in renderdict:\n",
    "   \n",
    "    df = pandas.read_csv(renderdict[pair], sep=';')\n",
    "    if('Car PositionXA' not in df.columns):\n",
    "        print(pair, \"Could not compute missing colum\")\n",
    "        continue\n",
    "    x_A_Offset= df['Car PositionXA'].iloc[0]-df['HeadPosXA'].iloc[0]  \n",
    "    z_A_Offset= df['Car PositionZA'].iloc[0]-df['HeadPosZA'].iloc[0]  \n",
    "    outval.append([x_A_Offset,z_A_Offset])\n",
    "outval  = np.array(outval)"
   ]
  }
 ],
 "metadata": {
  "kernelspec": {
   "display_name": "Python 3 (ipykernel)",
   "language": "python",
   "name": "python3"
  },
  "language_info": {
   "codemirror_mode": {
    "name": "ipython",
    "version": 3
   },
   "file_extension": ".py",
   "mimetype": "text/x-python",
   "name": "python",
   "nbconvert_exporter": "python",
   "pygments_lexer": "ipython3",
   "version": "3.12.2"
  }
 },
 "nbformat": 4,
 "nbformat_minor": 5
}
