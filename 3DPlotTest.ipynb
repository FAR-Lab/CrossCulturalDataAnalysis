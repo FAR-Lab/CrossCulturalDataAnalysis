{
 "cells": [
  {
   "cell_type": "code",
   "execution_count": 1,
   "id": "34742430-aabc-4dca-9306-113aa5e802c1",
   "metadata": {
    "tags": []
   },
   "outputs": [],
   "source": [
    "import matplotlib.pyplot as plt\n",
    "import pandas\n",
    "import re\n",
    "from pathlib import Path\n",
    "import numpy as np\n",
    "import random\n",
    "import os\n",
    "\n",
    "import Utilities"
   ]
  },
  {
   "cell_type": "code",
   "execution_count": 2,
   "id": "f07363d0-8f0c-4203-858e-dad8a967b67a",
   "metadata": {
    "tags": []
   },
   "outputs": [],
   "source": [
    "# use plotly instead of matplot lib for plotly's interactability\n",
    "\n",
    "import plotly.graph_objects as go\n",
    "\n",
    "def PlotlyPlot(path, wantedDistanceWithin):\n",
    "    dfA, dfB = Utilities.GetTruncatedScenario(path, wantedDistanceWithin)\n",
    "\n",
    "    dfA['time'] = dfA.index\n",
    "    dfB['time'] = dfB.index\n",
    "\n",
    "    \n",
    "    # Create 3D Scatter plot for the first set of data\n",
    "    trace1 = go.Scatter3d(\n",
    "        x=dfA['HeadPosXA'],\n",
    "        y=dfA['HeadPosZA'],\n",
    "        z=dfA['time'],\n",
    "        mode='markers',\n",
    "        marker=dict(\n",
    "            size=3,\n",
    "            color=dfA['time'],                \n",
    "            colorscale='Viridis',           \n",
    "            opacity=0.8\n",
    "        ),\n",
    "        name='Car A'  \n",
    "    )\n",
    "\n",
    "    # Create 3D Scatter plot for the second set of data\n",
    "    trace2 = go.Scatter3d(\n",
    "        x=dfB['HeadPosXB'],\n",
    "        y=dfB['HeadPosZB'],\n",
    "        z=dfB['time'],\n",
    "        mode='markers',\n",
    "        marker=dict(\n",
    "            size=3,\n",
    "            color=dfB['time'],                \n",
    "            colorscale='Viridis',           \n",
    "            opacity=0.8\n",
    "        ),\n",
    "        name='Car B'  \n",
    "    )\n",
    "\n",
    "    data = [trace1, trace2]\n",
    "\n",
    "    fig = go.Figure(data=data)\n",
    "\n",
    "    fig.update_layout(title = path[-23:-4],\n",
    "                    scene = dict(\n",
    "                        xaxis_title='HeadPosX',\n",
    "                        yaxis_title='HeadPosZ',\n",
    "                        zaxis_title='time'),\n",
    "                        width=700,\n",
    "                        height=700,\n",
    "                        margin=dict(r=20, b=10, l=10, t=30))   \n",
    "    \n",
    "    # force the x and y axis of the plot to contain the full area even if the path doesn't reach there\n",
    "    x_axis_range = [-wantedDistanceWithin, wantedDistanceWithin]\n",
    "    y_axis_range = [-wantedDistanceWithin, wantedDistanceWithin]\n",
    "    fig.update_layout(scene=dict(camera=dict(projection=dict(type='orthographic')),\n",
    "                                 xaxis=dict(range=x_axis_range),\n",
    "                                 yaxis=dict(range=y_axis_range)))\n",
    "    return fig"
   ]
  },
  {
   "cell_type": "code",
   "execution_count": 3,
   "id": "e6a0f3f3-4485-42f9-a231-db4de1955245",
   "metadata": {
    "tags": []
   },
   "outputs": [
    {
     "data": {
      "text/plain": [
       "'\\n\\ntemp_path = random.choice(CPlist_NYC)\\n\\nUtilities.DrawIntersectionFromPath(temp_path, 40)\\nPlotlyPlot(temp_path, 20)\\n'"
      ]
     },
     "execution_count": 3,
     "metadata": {},
     "output_type": "execute_result"
    }
   ],
   "source": [
    "\"\"\"\n",
    "\n",
    "temp_path = random.choice(CPlist_NYC)\n",
    "\n",
    "Utilities.DrawIntersectionFromPath(temp_path, 40)\n",
    "PlotlyPlot(temp_path, 20)\n",
    "\"\"\""
   ]
  },
  {
   "cell_type": "code",
   "execution_count": 4,
   "id": "83c022c1-1ece-4c77-a65f-fc0e4e3ddd9a",
   "metadata": {
    "tags": []
   },
   "outputs": [],
   "source": [
    "import random\n",
    "import re\n",
    "import plotly.graph_objects as go\n",
    "\n",
    "# logic of multiple is quite fundimentally different from single, so I'm creating a new function\n",
    "def PlotlyPlotMultiple(paths, wantedDistanceWithin, cars):\n",
    "    data = []\n",
    "    for i, path in enumerate(paths):\n",
    "        dfA, dfB = Utilities.GetTruncatedScenario(path, wantedDistanceWithin)\n",
    "        dfA = dfA.reset_index(drop=True)\n",
    "        dfB = dfB.reset_index(drop=True)\n",
    "\n",
    "        dfA['time'] = dfA.index\n",
    "        dfB['time'] = dfB.index\n",
    "\n",
    "        if cars in ['carA', 'both']:\n",
    "            trace1 = go.Scatter3d(\n",
    "                x=dfA['HeadPosXA'],\n",
    "                y=dfA['HeadPosZA'],\n",
    "                z=dfA['time'],\n",
    "                mode='markers',\n",
    "                marker=dict(\n",
    "                    size=3,\n",
    "                    color=dfA['time'],                \n",
    "                    colorscale='Viridis',           \n",
    "                    opacity=0.8\n",
    "                ),\n",
    "                name=path[-18:-4] + \"A\"\n",
    "            )\n",
    "            data.append(trace1)\n",
    "\n",
    "        if cars in ['carB', 'both']:\n",
    "            trace2 = go.Scatter3d(\n",
    "                x=dfB['HeadPosXB'],\n",
    "                y=dfB['HeadPosZB'],\n",
    "                z=dfB['time'],\n",
    "                mode='markers',\n",
    "                marker=dict(\n",
    "                    size=3,\n",
    "                    color=dfB['time'],                \n",
    "                    colorscale='Viridis',           \n",
    "                    opacity=0.8\n",
    "                ),\n",
    "                name=path[-18:-4] + \"B\"  \n",
    "            )\n",
    "            data.append(trace2)\n",
    "\n",
    "    fig = go.Figure(data=data)\n",
    "\n",
    "    match = re.match(r'.*CSVScenario-CP(\\d+)_Session-(.{3})\\d+_\\d{4}-\\d{2}-\\d{2}-\\d{2}-\\d{2}-\\d{2}\\.csv', paths[0])\n",
    "    if match:\n",
    "        my_location = match.group(2)\n",
    "\n",
    "    fig.update_layout(title = my_location,\n",
    "                    scene = dict(\n",
    "                        xaxis_title='HeadPosX',\n",
    "                        yaxis_title='HeadPosZ',\n",
    "                        zaxis_title='time'),\n",
    "                        width=900,\n",
    "                        height=900,\n",
    "                        \n",
    "                        margin=dict(r=20, b=10, l=10, t=30))   \n",
    "\n",
    "    x_axis_range = [-wantedDistanceWithin, wantedDistanceWithin]\n",
    "    y_axis_range = [-wantedDistanceWithin, wantedDistanceWithin]\n",
    "    z_axis_range = [0, 1100] \n",
    "    fig.update_layout(scene=dict(camera=dict(projection=dict(type='orthographic')),\n",
    "                                 xaxis=dict(range=x_axis_range, dtick=2),\n",
    "                                 yaxis=dict(range=y_axis_range, dtick=2),\n",
    "                                 zaxis=dict(range=z_axis_range)\n",
    "                                ))\n",
    "    \n",
    "    # Creating list of visible status for traces\n",
    "    visible_list = [True] * len(data)  \n",
    "\n",
    "    def hide_all(visible_list):\n",
    "        return ['legendonly'] * len(visible_list)\n",
    "    def show_all(visible_list):\n",
    "        return [True] * len(visible_list)\n",
    "\n",
    "    fig.update_layout(\n",
    "        updatemenus=[\n",
    "            dict(\n",
    "                type=\"buttons\",\n",
    "                direction=\"right\",\n",
    "                showactive=True,\n",
    "                x=0,  \n",
    "                y=0,  \n",
    "                xanchor='left',\n",
    "                yanchor='bottom',\n",
    "                #pad=dict(r=3, t=3), \n",
    "                buttons=list([\n",
    "                    dict(\n",
    "                        label=\"Hide All Traces\",\n",
    "                        method=\"update\",\n",
    "                        args=[{\"visible\": hide_all(visible_list)}],\n",
    "                    ),\n",
    "                    dict(\n",
    "                        label=\"Show All Traces\",\n",
    "                        method=\"update\",\n",
    "                        args=[{\"visible\": show_all(visible_list)}],\n",
    "                    )\n",
    "                ]),\n",
    "            )\n",
    "        ]\n",
    "    )\n",
    "\n",
    "\n",
    "    return fig\n"
   ]
  },
  {
   "cell_type": "code",
   "execution_count": 5,
   "id": "d7070c78-c482-4767-819d-29f85907b3c4",
   "metadata": {
    "tags": []
   },
   "outputs": [],
   "source": [
    "import ipywidgets as widgets\n",
    "from IPython.display import display\n",
    "\n",
    "def PlotAll(CP_num, bounding_distance, plotted_car_type):\n",
    "    def SetCPList(cp_num):\n",
    "        CPlist_NYC = Utilities.GetScenarioCSVList(cp_num, True, \"NYC\")\n",
    "        CPlist_ITH = Utilities.GetScenarioCSVList(cp_num, True, \"ITH\")\n",
    "        CPlist_ISR = Utilities.GetScenarioCSVList(cp_num, True, \"ISR\")\n",
    "        return CPlist_NYC, CPlist_ITH, CPlist_ISR\n",
    "\n",
    "    CPlist_NYC, CPlist_ITH, CPlist_ISR = SetCPList(CP_num)\n",
    "\n",
    "    distance_within = bounding_distance\n",
    "    # car types: carA, carB, both\n",
    "    car_type = plotted_car_type\n",
    "\n",
    "    NYC_plot = PlotlyPlotMultiple(CPlist_NYC, distance_within, car_type)\n",
    "    ITH_plot = PlotlyPlotMultiple(CPlist_ITH, distance_within, car_type)\n",
    "    SIR_plot = PlotlyPlotMultiple(CPlist_ISR, distance_within, car_type)\n",
    "\n",
    "    # I found plotly's subgraph a bit tricky to work with, so for now the workaround is to use ipywidgets\n",
    "    # imagine attaching multiple js canvas to the website instead attemping combine everything into a single js\n",
    "    out1 = widgets.Output()\n",
    "    out2 = widgets.Output()\n",
    "    out3 = widgets.Output()\n",
    "\n",
    "    # Display your plots in the output widgets\n",
    "    with out1:\n",
    "        display(NYC_plot)\n",
    "\n",
    "    #with out2:\n",
    "        #display(ITH_plot)\n",
    "\n",
    "    with out3:\n",
    "        display(SIR_plot)\n",
    "\n",
    "    #plot_container = widgets.HBox([out1, out2, out3])\n",
    "\n",
    "    plot_container = widgets.HBox([out1, out3])\n",
    "\n",
    "\n",
    "    display(plot_container)\n",
    "\n"
   ]
  },
  {
   "cell_type": "code",
   "execution_count": 6,
   "id": "85da2b5f-1e0b-4f76-a9e3-733a5aef60a4",
   "metadata": {},
   "outputs": [
    {
     "name": "stdout",
     "output_type": "stream",
     "text": [
      "got 28 csv from CP1 in NYC with validity: True \n",
      "got 10 csv from CP1 in ITH with validity: True \n",
      "got 30 csv from CP1 in ISR with validity: True \n"
     ]
    },
    {
     "data": {
      "application/vnd.jupyter.widget-view+json": {
       "model_id": "5e798756735d4415bb7bb5504bdf36e9",
       "version_major": 2,
       "version_minor": 0
      },
      "text/plain": [
       "HBox(children=(Output(), Output()))"
      ]
     },
     "metadata": {},
     "output_type": "display_data"
    }
   ],
   "source": [
    "PlotAll(1, 20, \"both\")"
   ]
  },
  {
   "cell_type": "code",
   "execution_count": 7,
   "id": "bbe04250-fbf3-427a-a29e-bb8cd1fadaea",
   "metadata": {},
   "outputs": [
    {
     "name": "stdout",
     "output_type": "stream",
     "text": [
      "got 29 csv from CP2 in NYC with validity: True \n",
      "got 11 csv from CP2 in ITH with validity: True \n",
      "got 31 csv from CP2 in ISR with validity: True \n"
     ]
    },
    {
     "data": {
      "application/vnd.jupyter.widget-view+json": {
       "model_id": "403f2513bb7a46d19b3555676b5bf088",
       "version_major": 2,
       "version_minor": 0
      },
      "text/plain": [
       "HBox(children=(Output(), Output()))"
      ]
     },
     "metadata": {},
     "output_type": "display_data"
    }
   ],
   "source": [
    "PlotAll(2, 20, \"both\")"
   ]
  },
  {
   "cell_type": "code",
   "execution_count": 8,
   "id": "ed160d4d-90a7-4ed9-ac8a-7f992a1bda94",
   "metadata": {},
   "outputs": [
    {
     "name": "stdout",
     "output_type": "stream",
     "text": [
      "got 26 csv from CP3 in NYC with validity: True \n",
      "got 10 csv from CP3 in ITH with validity: True \n",
      "got 25 csv from CP3 in ISR with validity: True \n"
     ]
    },
    {
     "data": {
      "application/vnd.jupyter.widget-view+json": {
       "model_id": "f5c04a17dc5f4db2b4b9cdaee3eb96e4",
       "version_major": 2,
       "version_minor": 0
      },
      "text/plain": [
       "HBox(children=(Output(), Output()))"
      ]
     },
     "metadata": {},
     "output_type": "display_data"
    }
   ],
   "source": [
    "PlotAll(3, 20, \"both\")"
   ]
  },
  {
   "cell_type": "code",
   "execution_count": 9,
   "id": "be7c4d05-30b6-45c5-bb60-fba93acb6dd3",
   "metadata": {},
   "outputs": [
    {
     "name": "stdout",
     "output_type": "stream",
     "text": [
      "got 26 csv from CP5 in NYC with validity: True \n",
      "got 10 csv from CP5 in ITH with validity: True \n",
      "got 22 csv from CP5 in ISR with validity: True \n"
     ]
    },
    {
     "data": {
      "application/vnd.jupyter.widget-view+json": {
       "model_id": "5e0c346add334ba995aba15c766ceb76",
       "version_major": 2,
       "version_minor": 0
      },
      "text/plain": [
       "HBox(children=(Output(), Output()))"
      ]
     },
     "metadata": {},
     "output_type": "display_data"
    }
   ],
   "source": [
    "PlotAll(5, 20, \"both\")"
   ]
  },
  {
   "cell_type": "code",
   "execution_count": 10,
   "id": "b86c8959-18fb-4f3f-9410-622347280da6",
   "metadata": {},
   "outputs": [
    {
     "name": "stdout",
     "output_type": "stream",
     "text": [
      "got 26 csv from CP6 in NYC with validity: True \n",
      "got 9 csv from CP6 in ITH with validity: True \n",
      "got 27 csv from CP6 in ISR with validity: True \n"
     ]
    },
    {
     "data": {
      "application/vnd.jupyter.widget-view+json": {
       "model_id": "2aa2e75d60404b90a04c41d6798b913a",
       "version_major": 2,
       "version_minor": 0
      },
      "text/plain": [
       "HBox(children=(Output(), Output()))"
      ]
     },
     "metadata": {},
     "output_type": "display_data"
    }
   ],
   "source": [
    "PlotAll(6, 20, \"both\")"
   ]
  },
  {
   "cell_type": "code",
   "execution_count": 11,
   "id": "a3ddbd12-58b0-48bb-adbf-51ed4156bcbe",
   "metadata": {},
   "outputs": [
    {
     "name": "stdout",
     "output_type": "stream",
     "text": [
      "got 35 csv from CP7 in NYC with validity: True \n",
      "got 10 csv from CP7 in ITH with validity: True \n",
      "got 31 csv from CP7 in ISR with validity: True \n"
     ]
    },
    {
     "data": {
      "application/vnd.jupyter.widget-view+json": {
       "model_id": "4153c9f0457d4ade86a5b1f74ce23198",
       "version_major": 2,
       "version_minor": 0
      },
      "text/plain": [
       "HBox(children=(Output(), Output()))"
      ]
     },
     "metadata": {},
     "output_type": "display_data"
    }
   ],
   "source": [
    "PlotAll(7, 20, \"both\")"
   ]
  },
  {
   "cell_type": "code",
   "execution_count": 12,
   "id": "8681d280-e8fa-4eef-81a0-7f2f10272c3f",
   "metadata": {},
   "outputs": [
    {
     "name": "stdout",
     "output_type": "stream",
     "text": [
      "got 23 csv from CP8 in NYC with validity: True \n",
      "got 10 csv from CP8 in ITH with validity: True \n",
      "got 24 csv from CP8 in ISR with validity: True \n"
     ]
    },
    {
     "data": {
      "application/vnd.jupyter.widget-view+json": {
       "model_id": "ec921a67e0134c1986b91a0b0cdc2305",
       "version_major": 2,
       "version_minor": 0
      },
      "text/plain": [
       "HBox(children=(Output(), Output()))"
      ]
     },
     "metadata": {},
     "output_type": "display_data"
    }
   ],
   "source": [
    "PlotAll(8, 20, \"both\")"
   ]
  },
  {
   "cell_type": "code",
   "execution_count": null,
   "id": "a160cb06-e1e4-4550-86b1-d79a24b1928f",
   "metadata": {},
   "outputs": [],
   "source": []
  }
 ],
 "metadata": {
  "kernelspec": {
   "display_name": "Python 3 (ipykernel)",
   "language": "python",
   "name": "python3"
  },
  "language_info": {
   "codemirror_mode": {
    "name": "ipython",
    "version": 3
   },
   "file_extension": ".py",
   "mimetype": "text/x-python",
   "name": "python",
   "nbconvert_exporter": "python",
   "pygments_lexer": "ipython3",
   "version": "3.8.17"
  }
 },
 "nbformat": 4,
 "nbformat_minor": 5
}
